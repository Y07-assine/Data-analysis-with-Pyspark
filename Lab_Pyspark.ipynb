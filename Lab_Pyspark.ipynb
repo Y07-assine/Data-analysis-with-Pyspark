{
  "nbformat": 4,
  "nbformat_minor": 0,
  "metadata": {
    "colab": {
      "name": "Lab-Pyspark.ipynb",
      "provenance": [],
      "collapsed_sections": [],
      "authorship_tag": "ABX9TyMQ8CmF0XMVBwXC5bW103i6",
      "include_colab_link": true
    },
    "kernelspec": {
      "name": "python3",
      "display_name": "Python 3"
    },
    "language_info": {
      "name": "python"
    }
  },
  "cells": [
    {
      "cell_type": "markdown",
      "metadata": {
        "id": "view-in-github",
        "colab_type": "text"
      },
      "source": [
        "<a href=\"https://colab.research.google.com/github/Y07-assine/Data-analysis-with-Pyspark/blob/main/Lab_Pyspark.ipynb\" target=\"_parent\"><img src=\"https://colab.research.google.com/assets/colab-badge.svg\" alt=\"Open In Colab\"/></a>"
      ]
    },
    {
      "cell_type": "markdown",
      "metadata": {
        "id": "7rJ5LKlZRsCn"
      },
      "source": [
        "###ANALYSIS OF LOGS FILES OF CYCLISTS"
      ]
    },
    {
      "cell_type": "markdown",
      "metadata": {
        "id": "zumURbgUSO2D"
      },
      "source": [
        "Our missions:\n",
        "1. Calculate the time foreach trip.\n",
        "2. Make curves of the trip length\n",
        "\n"
      ]
    },
    {
      "cell_type": "code",
      "metadata": {
        "colab": {
          "base_uri": "https://localhost:8080/"
        },
        "id": "auGVzLPyTbc7",
        "outputId": "c87827d5-5d23-4a06-ff2d-bec5747417b9"
      },
      "source": [
        "!apt-get update\n",
        "!apt-get install openjdk-8-jdk-headless -qq > /dev/null\n",
        "!wget -q http://archive.apache.org/dist/spark/spark-2.3.1/spark-2.3.1-bin-hadoop2.7.tgz\n",
        "!tar xf spark-2.3.1-bin-hadoop2.7.tgz\n",
        "!pip install -q findspark"
      ],
      "execution_count": 1,
      "outputs": [
        {
          "output_type": "stream",
          "name": "stdout",
          "text": [
            "\r0% [Working]\r            \rGet:1 http://security.ubuntu.com/ubuntu bionic-security InRelease [88.7 kB]\n",
            "\r0% [Connecting to archive.ubuntu.com (91.189.88.152)] [1 InRelease 14.2 kB/88.7\r0% [Connecting to archive.ubuntu.com (91.189.88.152)] [Connected to cloud.r-pro\r0% [1 InRelease gpgv 88.7 kB] [Connecting to archive.ubuntu.com (91.189.88.152)\r                                                                               \rGet:2 https://cloud.r-project.org/bin/linux/ubuntu bionic-cran40/ InRelease [3,626 B]\n",
            "\r0% [1 InRelease gpgv 88.7 kB] [Waiting for headers] [2 InRelease 3,626 B/3,626 \r0% [1 InRelease gpgv 88.7 kB] [Waiting for headers] [Waiting for headers] [Wait\r                                                                               \rIgn:3 https://developer.download.nvidia.com/compute/cuda/repos/ubuntu1804/x86_64  InRelease\n",
            "Get:4 http://ppa.launchpad.net/c2d4u.team/c2d4u4.0+/ubuntu bionic InRelease [15.9 kB]\n",
            "Hit:5 http://archive.ubuntu.com/ubuntu bionic InRelease\n",
            "Ign:6 https://developer.download.nvidia.com/compute/machine-learning/repos/ubuntu1804/x86_64  InRelease\n",
            "Get:7 https://developer.download.nvidia.com/compute/cuda/repos/ubuntu1804/x86_64  Release [696 B]\n",
            "Get:8 http://archive.ubuntu.com/ubuntu bionic-updates InRelease [88.7 kB]\n",
            "Hit:9 https://developer.download.nvidia.com/compute/machine-learning/repos/ubuntu1804/x86_64  Release\n",
            "Get:10 https://developer.download.nvidia.com/compute/cuda/repos/ubuntu1804/x86_64  Release.gpg [836 B]\n",
            "Hit:11 http://ppa.launchpad.net/cran/libgit2/ubuntu bionic InRelease\n",
            "Get:12 http://security.ubuntu.com/ubuntu bionic-security/main amd64 Packages [2,430 kB]\n",
            "Get:13 http://archive.ubuntu.com/ubuntu bionic-backports InRelease [74.6 kB]\n",
            "Hit:14 http://ppa.launchpad.net/deadsnakes/ppa/ubuntu bionic InRelease\n",
            "Get:15 http://security.ubuntu.com/ubuntu bionic-security/universe amd64 Packages [1,442 kB]\n",
            "Hit:16 http://ppa.launchpad.net/graphics-drivers/ppa/ubuntu bionic InRelease\n",
            "Get:17 http://ppa.launchpad.net/c2d4u.team/c2d4u4.0+/ubuntu bionic/main Sources [1,812 kB]\n",
            "Get:19 https://developer.download.nvidia.com/compute/cuda/repos/ubuntu1804/x86_64  Packages [828 kB]\n",
            "Get:20 http://ppa.launchpad.net/c2d4u.team/c2d4u4.0+/ubuntu bionic/main amd64 Packages [930 kB]\n",
            "Get:21 http://archive.ubuntu.com/ubuntu bionic-updates/main amd64 Packages [2,867 kB]\n",
            "Get:22 http://archive.ubuntu.com/ubuntu bionic-updates/universe amd64 Packages [2,224 kB]\n",
            "Fetched 12.8 MB in 4s (3,137 kB/s)\n",
            "Reading package lists... Done\n"
          ]
        }
      ]
    },
    {
      "cell_type": "code",
      "metadata": {
        "id": "4Qi1aIH_UhVP"
      },
      "source": [
        "import os\n",
        "os.environ[\"JAVA_HOME\"] = \"/usr/lib/jvm/java-8-openjdk-amd64\"\n",
        "os.environ[\"SPARK_HOME\"] = \"/content/spark-2.3.1-bin-hadoop2.7\""
      ],
      "execution_count": 2,
      "outputs": []
    },
    {
      "cell_type": "code",
      "metadata": {
        "colab": {
          "base_uri": "https://localhost:8080/"
        },
        "id": "CQdHJ-d6Ujtu",
        "outputId": "74100850-d974-4866-eae3-caadb48b8277"
      },
      "source": [
        "ls"
      ],
      "execution_count": 3,
      "outputs": [
        {
          "output_type": "stream",
          "name": "stdout",
          "text": [
            "\u001b[0m\u001b[01;34msample_data\u001b[0m/  \u001b[01;34mspark-2.3.1-bin-hadoop2.7\u001b[0m/  spark-2.3.1-bin-hadoop2.7.tgz\n"
          ]
        }
      ]
    },
    {
      "cell_type": "code",
      "metadata": {
        "colab": {
          "base_uri": "https://localhost:8080/",
          "height": 196
        },
        "id": "BA_icknMUxjB",
        "outputId": "559aab6c-4697-4757-d275-f4e58476c28b"
      },
      "source": [
        "import findspark\n",
        "findspark.init()\n",
        "from pyspark import SparkContext\n",
        "\n",
        "sc = SparkContext.getOrCreate()\n",
        "sc"
      ],
      "execution_count": 4,
      "outputs": [
        {
          "output_type": "execute_result",
          "data": {
            "text/html": [
              "\n",
              "        <div>\n",
              "            <p><b>SparkContext</b></p>\n",
              "\n",
              "            <p><a href=\"http://f8268e0a898c:4040\">Spark UI</a></p>\n",
              "\n",
              "            <dl>\n",
              "              <dt>Version</dt>\n",
              "                <dd><code>v2.3.1</code></dd>\n",
              "              <dt>Master</dt>\n",
              "                <dd><code>local[*]</code></dd>\n",
              "              <dt>AppName</dt>\n",
              "                <dd><code>pyspark-shell</code></dd>\n",
              "            </dl>\n",
              "        </div>\n",
              "        "
            ],
            "text/plain": [
              "<SparkContext master=local[*] appName=pyspark-shell>"
            ]
          },
          "metadata": {},
          "execution_count": 4
        }
      ]
    },
    {
      "cell_type": "code",
      "metadata": {
        "colab": {
          "base_uri": "https://localhost:8080/",
          "height": 219
        },
        "id": "lSOPfq6rUyny",
        "outputId": "6dde2421-2e76-4c92-8dbc-a15796232a47"
      },
      "source": [
        "import pyspark\n",
        "from pyspark.sql import SparkSession\n",
        "spark = SparkSession.builder.getOrCreate() \n",
        "spark"
      ],
      "execution_count": 5,
      "outputs": [
        {
          "output_type": "execute_result",
          "data": {
            "text/html": [
              "\n",
              "            <div>\n",
              "                <p><b>SparkSession - in-memory</b></p>\n",
              "                \n",
              "        <div>\n",
              "            <p><b>SparkContext</b></p>\n",
              "\n",
              "            <p><a href=\"http://f8268e0a898c:4040\">Spark UI</a></p>\n",
              "\n",
              "            <dl>\n",
              "              <dt>Version</dt>\n",
              "                <dd><code>v2.3.1</code></dd>\n",
              "              <dt>Master</dt>\n",
              "                <dd><code>local[*]</code></dd>\n",
              "              <dt>AppName</dt>\n",
              "                <dd><code>pyspark-shell</code></dd>\n",
              "            </dl>\n",
              "        </div>\n",
              "        \n",
              "            </div>\n",
              "        "
            ],
            "text/plain": [
              "<pyspark.sql.session.SparkSession at 0x7f31fbcdf210>"
            ]
          },
          "metadata": {},
          "execution_count": 5
        }
      ]
    },
    {
      "cell_type": "code",
      "metadata": {
        "colab": {
          "base_uri": "https://localhost:8080/"
        },
        "id": "JtwAgylNTIHf",
        "outputId": "728d385c-5020-431c-c6d9-e36b414c8a8b"
      },
      "source": [
        "from google.colab import drive\n",
        "drive.mount('/content/drive')"
      ],
      "execution_count": 8,
      "outputs": [
        {
          "output_type": "stream",
          "name": "stdout",
          "text": [
            "Mounted at /content/drive\n"
          ]
        }
      ]
    },
    {
      "cell_type": "markdown",
      "metadata": {
        "id": "sBP61IvjWg37"
      },
      "source": [
        "##Load the data"
      ]
    },
    {
      "cell_type": "code",
      "metadata": {
        "id": "D90JE-3vTZYV"
      },
      "source": [
        "path = '/content/drive/MyDrive/Cyclistes/*.csv'"
      ],
      "execution_count": 9,
      "outputs": []
    },
    {
      "cell_type": "code",
      "metadata": {
        "id": "-pBZg6PKVTIu"
      },
      "source": [
        "tous_tous_cyclistes = spark.read.format(\"csv\").option(\"header\",\"true\").load(path,inferSchema=True)"
      ],
      "execution_count": 10,
      "outputs": []
    },
    {
      "cell_type": "code",
      "metadata": {
        "colab": {
          "base_uri": "https://localhost:8080/"
        },
        "id": "0mDIFu9HWPR7",
        "outputId": "d90a0b97-fae8-445c-ea11-86c9969005ae"
      },
      "source": [
        "tous_tous_cyclistes.count()"
      ],
      "execution_count": 11,
      "outputs": [
        {
          "output_type": "execute_result",
          "data": {
            "text/plain": [
              "4868396"
            ]
          },
          "metadata": {},
          "execution_count": 11
        }
      ]
    },
    {
      "cell_type": "code",
      "metadata": {
        "colab": {
          "base_uri": "https://localhost:8080/"
        },
        "id": "QkdbGUi_WVty",
        "outputId": "40220b26-690e-468e-be69-530fc9a821a7"
      },
      "source": [
        "tous_tous_cyclistes.printSchema()"
      ],
      "execution_count": 12,
      "outputs": [
        {
          "output_type": "stream",
          "name": "stdout",
          "text": [
            "root\n",
            " |-- id: integer (nullable = true)\n",
            " |-- timestamp: timestamp (nullable = true)\n",
            " |-- sur_velo: boolean (nullable = true)\n",
            " |-- velo: string (nullable = true)\n",
            " |-- vitesse: double (nullable = true)\n",
            " |-- position: string (nullable = true)\n",
            " |-- destination_finale: string (nullable = true)\n",
            "\n"
          ]
        }
      ]
    },
    {
      "cell_type": "markdown",
      "metadata": {
        "id": "qv-n6GwpW-yQ"
      },
      "source": [
        "Let's check the number of cycles by deduplicating the column timestamp which is the column that gives us the internal time of the simulation"
      ]
    },
    {
      "cell_type": "code",
      "metadata": {
        "colab": {
          "base_uri": "https://localhost:8080/"
        },
        "id": "drsWzdy4Wc_S",
        "outputId": "d70abb3d-87dc-4ea7-940d-b77248b19055"
      },
      "source": [
        "tous_tous_cyclistes.select(\"timestamp\").drop_duplicates().count()"
      ],
      "execution_count": 13,
      "outputs": [
        {
          "output_type": "execute_result",
          "data": {
            "text/plain": [
              "19396"
            ]
          },
          "metadata": {},
          "execution_count": 13
        }
      ]
    },
    {
      "cell_type": "code",
      "metadata": {
        "colab": {
          "base_uri": "https://localhost:8080/"
        },
        "id": "aasxBHiIXrwC",
        "outputId": "4b3821e7-35f9-41ea-fec3-e0319d81a24f"
      },
      "source": [
        "tous_tous_cyclistes.take(5)"
      ],
      "execution_count": 14,
      "outputs": [
        {
          "output_type": "execute_result",
          "data": {
            "text/plain": [
              "[Row(id=246, timestamp=datetime.datetime(2018, 1, 1, 0, 1), sur_velo=False, velo='False', vitesse=0.02, position='(lon:22.62 lat:9.63)', destination_finale='False'),\n",
              " Row(id=246, timestamp=datetime.datetime(2018, 1, 1, 0, 2), sur_velo=False, velo='False', vitesse=0.02, position='(lon:22.62 lat:9.63)', destination_finale='False'),\n",
              " Row(id=246, timestamp=datetime.datetime(2018, 1, 1, 0, 3), sur_velo=False, velo='False', vitesse=0.02, position='(lon:22.62 lat:9.63)', destination_finale='False'),\n",
              " Row(id=246, timestamp=datetime.datetime(2018, 1, 1, 0, 4), sur_velo=False, velo='False', vitesse=0.02, position='(lon:22.62 lat:9.63)', destination_finale='False'),\n",
              " Row(id=246, timestamp=datetime.datetime(2018, 1, 1, 0, 5), sur_velo=False, velo='False', vitesse=0.02, position='(lon:22.62 lat:9.63)', destination_finale='False')]"
            ]
          },
          "metadata": {},
          "execution_count": 14
        }
      ]
    },
    {
      "cell_type": "markdown",
      "metadata": {
        "id": "OWQdm8iVkvDH"
      },
      "source": [
        "##Find the start time and end time of each trip"
      ]
    },
    {
      "cell_type": "code",
      "metadata": {
        "id": "pNG7AAgKkwM9"
      },
      "source": [
        "from pyspark.sql import functions as F"
      ],
      "execution_count": 15,
      "outputs": []
    },
    {
      "cell_type": "code",
      "metadata": {
        "id": "qTeuYPlPlA89"
      },
      "source": [
        "trip = tous_tous_cyclistes.groupBy(['id','sur_velo']).agg(F.min(tous_tous_cyclistes.timestamp),F.max(tous_tous_cyclistes.timestamp))"
      ],
      "execution_count": 16,
      "outputs": []
    },
    {
      "cell_type": "code",
      "metadata": {
        "colab": {
          "base_uri": "https://localhost:8080/"
        },
        "id": "Fo4ownB5lYZv",
        "outputId": "32cdfa57-dfd8-42a8-d8d4-021f1083b1eb"
      },
      "source": [
        "trip.take(5)"
      ],
      "execution_count": 17,
      "outputs": [
        {
          "output_type": "execute_result",
          "data": {
            "text/plain": [
              "[Row(id=196, sur_velo=False, min(timestamp)=datetime.datetime(2018, 1, 1, 0, 1), max(timestamp)=datetime.datetime(2018, 1, 14, 11, 16)),\n",
              " Row(id=118, sur_velo=True, min(timestamp)=datetime.datetime(2018, 1, 1, 9, 12), max(timestamp)=datetime.datetime(2018, 1, 6, 10, 12)),\n",
              " Row(id=185, sur_velo=True, min(timestamp)=datetime.datetime(2018, 1, 1, 6, 29), max(timestamp)=datetime.datetime(2018, 1, 8, 12, 13)),\n",
              " Row(id=108, sur_velo=True, min(timestamp)=datetime.datetime(2018, 1, 1, 6, 45), max(timestamp)=datetime.datetime(2018, 1, 9, 13, 21)),\n",
              " Row(id=62, sur_velo=True, min(timestamp)=datetime.datetime(2018, 1, 1, 9, 34), max(timestamp)=datetime.datetime(2018, 1, 10, 2, 48))]"
            ]
          },
          "metadata": {},
          "execution_count": 17
        }
      ]
    },
    {
      "cell_type": "code",
      "metadata": {
        "id": "S8N4Jt9YlmXM"
      },
      "source": [
        "trip = tous_tous_cyclistes.groupBy(['id','sur_velo']).agg(F.min(tous_tous_cyclistes.timestamp),F.max(tous_tous_cyclistes.timestamp)).sort('id')"
      ],
      "execution_count": 18,
      "outputs": []
    },
    {
      "cell_type": "code",
      "metadata": {
        "colab": {
          "base_uri": "https://localhost:8080/"
        },
        "id": "l1av2yuvlrjq",
        "outputId": "61622dbe-e742-4c84-9c4c-275f944968d2"
      },
      "source": [
        "trip.take(5)"
      ],
      "execution_count": 19,
      "outputs": [
        {
          "output_type": "execute_result",
          "data": {
            "text/plain": [
              "[Row(id=1, sur_velo=True, min(timestamp)=datetime.datetime(2018, 1, 6, 1, 51), max(timestamp)=datetime.datetime(2018, 1, 14, 5, 51)),\n",
              " Row(id=1, sur_velo=False, min(timestamp)=datetime.datetime(2018, 1, 1, 0, 1), max(timestamp)=datetime.datetime(2018, 1, 14, 11, 16)),\n",
              " Row(id=2, sur_velo=True, min(timestamp)=datetime.datetime(2018, 1, 1, 6, 27), max(timestamp)=datetime.datetime(2018, 1, 11, 20, 51)),\n",
              " Row(id=2, sur_velo=False, min(timestamp)=datetime.datetime(2018, 1, 1, 0, 1), max(timestamp)=datetime.datetime(2018, 1, 14, 11, 16)),\n",
              " Row(id=3, sur_velo=True, min(timestamp)=datetime.datetime(2018, 1, 1, 8, 8), max(timestamp)=datetime.datetime(2018, 1, 10, 11, 36))]"
            ]
          },
          "metadata": {},
          "execution_count": 19
        }
      ]
    },
    {
      "cell_type": "markdown",
      "metadata": {
        "id": "9Dr7aZ2PmBuY"
      },
      "source": [
        "**Let's detect changes of state \"on a bike\" or not:\n",
        "windows and lag functions**"
      ]
    },
    {
      "cell_type": "code",
      "metadata": {
        "id": "uMzYv6AfoapL"
      },
      "source": [
        "from pyspark.sql.functions import udf\n",
        "from pyspark.sql.types import *"
      ],
      "execution_count": 25,
      "outputs": []
    },
    {
      "cell_type": "code",
      "metadata": {
        "id": "gm8T7pDYmGGJ"
      },
      "source": [
        "@udf(returnType = IntegerType())\n",
        "def changement(etat_actuel, etat_precedent):\n",
        "  if etat_precedent == None:\n",
        "    return 0\n",
        "  if etat_precedent == etat_actuel:\n",
        "    return 0\n",
        "  if etat_actuel != etat_precedent:\n",
        "    return 1 "
      ],
      "execution_count": 26,
      "outputs": []
    },
    {
      "cell_type": "code",
      "metadata": {
        "id": "6HbbIpsgzVlz"
      },
      "source": [
        "from pyspark.sql.window import Window"
      ],
      "execution_count": 27,
      "outputs": []
    },
    {
      "cell_type": "code",
      "metadata": {
        "id": "ETTCGh72zcBa"
      },
      "source": [
        "W = Window.orderBy(['id','timestamp'])"
      ],
      "execution_count": 33,
      "outputs": []
    },
    {
      "cell_type": "code",
      "metadata": {
        "colab": {
          "base_uri": "https://localhost:8080/"
        },
        "id": "qzFWHOW-ziPL",
        "outputId": "bad6c4bf-5351-4dc8-bfdc-c06caae47a5a"
      },
      "source": [
        "F.lag(\"sur_velo\",0).over(W)"
      ],
      "execution_count": 34,
      "outputs": [
        {
          "output_type": "execute_result",
          "data": {
            "text/plain": [
              "Column<b'lag(sur_velo, 0, NULL) OVER (ORDER BY id ASC NULLS FIRST, timestamp ASC NULLS FIRST unspecifiedframe$())'>"
            ]
          },
          "metadata": {},
          "execution_count": 34
        }
      ]
    },
    {
      "cell_type": "code",
      "metadata": {
        "colab": {
          "base_uri": "https://localhost:8080/"
        },
        "id": "-HBuPvUK0QXd",
        "outputId": "94b2f33e-868a-4d0e-baa7-271925e391c8"
      },
      "source": [
        "F.lag(\"sur_velo\",1).over(W)"
      ],
      "execution_count": 35,
      "outputs": [
        {
          "output_type": "execute_result",
          "data": {
            "text/plain": [
              "Column<b'lag(sur_velo, 1, NULL) OVER (ORDER BY id ASC NULLS FIRST, timestamp ASC NULLS FIRST unspecifiedframe$())'>"
            ]
          },
          "metadata": {},
          "execution_count": 35
        }
      ]
    },
    {
      "cell_type": "markdown",
      "metadata": {
        "id": "LFkWMWDt1DOW"
      },
      "source": [
        "**Spark LAG function provides access to a row at a given offset that comes before the current row in the windows. This function can be used in a SELECT statement to compare values in the current row with values in a previous row.**"
      ]
    },
    {
      "cell_type": "markdown",
      "metadata": {
        "id": "bZf1tQHw2Vwe"
      },
      "source": [
        "We will therefore be able to pass two lag functions to our UDF: one\n",
        "returning the current value (with the second parameter at 0) and the other the\n",
        "previous value (second parameter to 1)"
      ]
    },
    {
      "cell_type": "code",
      "metadata": {
        "id": "2pseHZeo1ETv"
      },
      "source": [
        "tous_tous_cyclistes = tous_tous_cyclistes.withColumn(\"changement\",changement(F.lag(\"sur_velo\",0).over(W),F.lag(\"sur_velo\",1).over(W)))"
      ],
      "execution_count": 36,
      "outputs": []
    },
    {
      "cell_type": "code",
      "metadata": {
        "colab": {
          "base_uri": "https://localhost:8080/"
        },
        "id": "AGFzws4619Vj",
        "outputId": "9309f21b-adaf-4f8e-dc5e-fa2de57a11b9"
      },
      "source": [
        "tous_tous_cyclistes.printSchema()"
      ],
      "execution_count": 37,
      "outputs": [
        {
          "output_type": "stream",
          "name": "stdout",
          "text": [
            "root\n",
            " |-- id: integer (nullable = true)\n",
            " |-- timestamp: timestamp (nullable = true)\n",
            " |-- sur_velo: boolean (nullable = true)\n",
            " |-- velo: string (nullable = true)\n",
            " |-- vitesse: double (nullable = true)\n",
            " |-- position: string (nullable = true)\n",
            " |-- destination_finale: string (nullable = true)\n",
            " |-- changement: integer (nullable = true)\n",
            "\n"
          ]
        }
      ]
    },
    {
      "cell_type": "markdown",
      "metadata": {
        "id": "fl6aLh8l2xpd"
      },
      "source": [
        "We can then follow a cyclist and see that the changes are good\n",
        "detected: each time the log size changes, a number 1 appears in the\n",
        "change field level"
      ]
    },
    {
      "cell_type": "code",
      "metadata": {
        "colab": {
          "base_uri": "https://localhost:8080/"
        },
        "id": "5AN4KpLk2yXQ",
        "outputId": "358388c0-9639-4830-aa29-359ecbb6d160"
      },
      "source": [
        "tous_tous_cyclistes.select(\"id\",\"timestamp\",\"velo\",\"changement\").sort('id','timestamp').collect()"
      ],
      "execution_count": 38,
      "outputs": [
        {
          "output_type": "execute_result",
          "data": {
            "text/plain": [
              "[Row(id=1, timestamp=datetime.datetime(2018, 1, 1, 0, 1), velo='False', changement=0),\n",
              " Row(id=1, timestamp=datetime.datetime(2018, 1, 1, 0, 2), velo='False', changement=0),\n",
              " Row(id=1, timestamp=datetime.datetime(2018, 1, 1, 0, 3), velo='False', changement=0),\n",
              " Row(id=1, timestamp=datetime.datetime(2018, 1, 1, 0, 4), velo='False', changement=0),\n",
              " Row(id=1, timestamp=datetime.datetime(2018, 1, 1, 0, 5), velo='False', changement=0),\n",
              " Row(id=1, timestamp=datetime.datetime(2018, 1, 1, 0, 6), velo='False', changement=0),\n",
              " Row(id=1, timestamp=datetime.datetime(2018, 1, 1, 0, 7), velo='False', changement=0),\n",
              " Row(id=1, timestamp=datetime.datetime(2018, 1, 1, 0, 8), velo='False', changement=0),\n",
              " Row(id=1, timestamp=datetime.datetime(2018, 1, 1, 0, 9), velo='False', changement=0),\n",
              " Row(id=1, timestamp=datetime.datetime(2018, 1, 1, 0, 10), velo='False', changement=0),\n",
              " Row(id=1, timestamp=datetime.datetime(2018, 1, 1, 0, 11), velo='False', changement=0),\n",
              " Row(id=1, timestamp=datetime.datetime(2018, 1, 1, 0, 12), velo='False', changement=0),\n",
              " Row(id=1, timestamp=datetime.datetime(2018, 1, 1, 0, 13), velo='False', changement=0),\n",
              " Row(id=1, timestamp=datetime.datetime(2018, 1, 1, 0, 14), velo='False', changement=0),\n",
              " Row(id=1, timestamp=datetime.datetime(2018, 1, 1, 0, 15), velo='False', changement=0),\n",
              " Row(id=1, timestamp=datetime.datetime(2018, 1, 1, 0, 16), velo='False', changement=0),\n",
              " Row(id=1, timestamp=datetime.datetime(2018, 1, 1, 0, 17), velo='False', changement=0),\n",
              " Row(id=1, timestamp=datetime.datetime(2018, 1, 1, 0, 18), velo='False', changement=0),\n",
              " Row(id=1, timestamp=datetime.datetime(2018, 1, 1, 0, 19), velo='False', changement=0),\n",
              " Row(id=1, timestamp=datetime.datetime(2018, 1, 1, 0, 20), velo='False', changement=0),\n",
              " Row(id=1, timestamp=datetime.datetime(2018, 1, 1, 0, 21), velo='False', changement=0),\n",
              " Row(id=1, timestamp=datetime.datetime(2018, 1, 1, 0, 22), velo='False', changement=0),\n",
              " Row(id=1, timestamp=datetime.datetime(2018, 1, 1, 0, 23), velo='False', changement=0),\n",
              " Row(id=1, timestamp=datetime.datetime(2018, 1, 1, 0, 24), velo='False', changement=0),\n",
              " Row(id=1, timestamp=datetime.datetime(2018, 1, 1, 0, 25), velo='False', changement=0),\n",
              " Row(id=1, timestamp=datetime.datetime(2018, 1, 1, 0, 26), velo='False', changement=0),\n",
              " Row(id=1, timestamp=datetime.datetime(2018, 1, 1, 0, 27), velo='False', changement=0),\n",
              " Row(id=1, timestamp=datetime.datetime(2018, 1, 1, 0, 28), velo='False', changement=0),\n",
              " Row(id=1, timestamp=datetime.datetime(2018, 1, 1, 0, 29), velo='False', changement=0),\n",
              " Row(id=1, timestamp=datetime.datetime(2018, 1, 1, 0, 30), velo='False', changement=0),\n",
              " Row(id=1, timestamp=datetime.datetime(2018, 1, 1, 0, 31), velo='False', changement=0),\n",
              " Row(id=1, timestamp=datetime.datetime(2018, 1, 1, 0, 32), velo='False', changement=0),\n",
              " Row(id=1, timestamp=datetime.datetime(2018, 1, 1, 0, 33), velo='False', changement=0),\n",
              " Row(id=1, timestamp=datetime.datetime(2018, 1, 1, 0, 34), velo='False', changement=0),\n",
              " Row(id=1, timestamp=datetime.datetime(2018, 1, 1, 0, 35), velo='False', changement=0),\n",
              " Row(id=1, timestamp=datetime.datetime(2018, 1, 1, 0, 36), velo='False', changement=0),\n",
              " Row(id=1, timestamp=datetime.datetime(2018, 1, 1, 0, 37), velo='False', changement=0),\n",
              " Row(id=1, timestamp=datetime.datetime(2018, 1, 1, 0, 38), velo='False', changement=0),\n",
              " Row(id=1, timestamp=datetime.datetime(2018, 1, 1, 0, 39), velo='False', changement=0),\n",
              " Row(id=1, timestamp=datetime.datetime(2018, 1, 1, 0, 40), velo='False', changement=0),\n",
              " Row(id=1, timestamp=datetime.datetime(2018, 1, 1, 0, 41), velo='False', changement=0),\n",
              " Row(id=1, timestamp=datetime.datetime(2018, 1, 1, 0, 42), velo='False', changement=0),\n",
              " Row(id=1, timestamp=datetime.datetime(2018, 1, 1, 0, 43), velo='False', changement=0),\n",
              " Row(id=1, timestamp=datetime.datetime(2018, 1, 1, 0, 44), velo='False', changement=0),\n",
              " Row(id=1, timestamp=datetime.datetime(2018, 1, 1, 0, 45), velo='False', changement=0),\n",
              " Row(id=1, timestamp=datetime.datetime(2018, 1, 1, 0, 46), velo='False', changement=0),\n",
              " Row(id=1, timestamp=datetime.datetime(2018, 1, 1, 0, 47), velo='False', changement=0),\n",
              " Row(id=1, timestamp=datetime.datetime(2018, 1, 1, 0, 48), velo='False', changement=0),\n",
              " Row(id=1, timestamp=datetime.datetime(2018, 1, 1, 0, 49), velo='False', changement=0),\n",
              " Row(id=1, timestamp=datetime.datetime(2018, 1, 1, 0, 50), velo='False', changement=0),\n",
              " Row(id=1, timestamp=datetime.datetime(2018, 1, 1, 0, 51), velo='False', changement=0),\n",
              " Row(id=1, timestamp=datetime.datetime(2018, 1, 1, 0, 52), velo='False', changement=0),\n",
              " Row(id=1, timestamp=datetime.datetime(2018, 1, 1, 0, 53), velo='False', changement=0),\n",
              " Row(id=1, timestamp=datetime.datetime(2018, 1, 1, 0, 54), velo='False', changement=0),\n",
              " Row(id=1, timestamp=datetime.datetime(2018, 1, 1, 0, 55), velo='False', changement=0),\n",
              " Row(id=1, timestamp=datetime.datetime(2018, 1, 1, 0, 56), velo='False', changement=0),\n",
              " Row(id=1, timestamp=datetime.datetime(2018, 1, 1, 0, 57), velo='False', changement=0),\n",
              " Row(id=1, timestamp=datetime.datetime(2018, 1, 1, 0, 58), velo='False', changement=0),\n",
              " Row(id=1, timestamp=datetime.datetime(2018, 1, 1, 0, 59), velo='False', changement=0),\n",
              " Row(id=1, timestamp=datetime.datetime(2018, 1, 1, 1, 0), velo='False', changement=0),\n",
              " Row(id=1, timestamp=datetime.datetime(2018, 1, 1, 1, 1), velo='False', changement=0),\n",
              " Row(id=1, timestamp=datetime.datetime(2018, 1, 1, 1, 2), velo='False', changement=0),\n",
              " Row(id=1, timestamp=datetime.datetime(2018, 1, 1, 1, 3), velo='False', changement=0),\n",
              " Row(id=1, timestamp=datetime.datetime(2018, 1, 1, 1, 4), velo='False', changement=0),\n",
              " Row(id=1, timestamp=datetime.datetime(2018, 1, 1, 1, 5), velo='False', changement=0),\n",
              " Row(id=1, timestamp=datetime.datetime(2018, 1, 1, 1, 6), velo='False', changement=0),\n",
              " Row(id=1, timestamp=datetime.datetime(2018, 1, 1, 1, 7), velo='False', changement=0),\n",
              " Row(id=1, timestamp=datetime.datetime(2018, 1, 1, 1, 8), velo='False', changement=0),\n",
              " Row(id=1, timestamp=datetime.datetime(2018, 1, 1, 1, 9), velo='False', changement=0),\n",
              " Row(id=1, timestamp=datetime.datetime(2018, 1, 1, 1, 10), velo='False', changement=0),\n",
              " Row(id=1, timestamp=datetime.datetime(2018, 1, 1, 1, 11), velo='False', changement=0),\n",
              " Row(id=1, timestamp=datetime.datetime(2018, 1, 1, 1, 12), velo='False', changement=0),\n",
              " Row(id=1, timestamp=datetime.datetime(2018, 1, 1, 1, 13), velo='False', changement=0),\n",
              " Row(id=1, timestamp=datetime.datetime(2018, 1, 1, 1, 14), velo='False', changement=0),\n",
              " Row(id=1, timestamp=datetime.datetime(2018, 1, 1, 1, 15), velo='False', changement=0),\n",
              " Row(id=1, timestamp=datetime.datetime(2018, 1, 1, 1, 16), velo='False', changement=0),\n",
              " Row(id=1, timestamp=datetime.datetime(2018, 1, 1, 1, 17), velo='False', changement=0),\n",
              " Row(id=1, timestamp=datetime.datetime(2018, 1, 1, 1, 18), velo='False', changement=0),\n",
              " Row(id=1, timestamp=datetime.datetime(2018, 1, 1, 1, 19), velo='False', changement=0),\n",
              " Row(id=1, timestamp=datetime.datetime(2018, 1, 1, 1, 20), velo='False', changement=0),\n",
              " Row(id=1, timestamp=datetime.datetime(2018, 1, 1, 1, 21), velo='False', changement=0),\n",
              " Row(id=1, timestamp=datetime.datetime(2018, 1, 1, 1, 22), velo='False', changement=0),\n",
              " Row(id=1, timestamp=datetime.datetime(2018, 1, 1, 1, 23), velo='False', changement=0),\n",
              " Row(id=1, timestamp=datetime.datetime(2018, 1, 1, 1, 24), velo='False', changement=0),\n",
              " Row(id=1, timestamp=datetime.datetime(2018, 1, 1, 1, 25), velo='False', changement=0),\n",
              " Row(id=1, timestamp=datetime.datetime(2018, 1, 1, 1, 26), velo='False', changement=0),\n",
              " Row(id=1, timestamp=datetime.datetime(2018, 1, 1, 1, 27), velo='False', changement=0),\n",
              " Row(id=1, timestamp=datetime.datetime(2018, 1, 1, 1, 28), velo='False', changement=0),\n",
              " Row(id=1, timestamp=datetime.datetime(2018, 1, 1, 1, 29), velo='False', changement=0),\n",
              " Row(id=1, timestamp=datetime.datetime(2018, 1, 1, 1, 30), velo='False', changement=0),\n",
              " Row(id=1, timestamp=datetime.datetime(2018, 1, 1, 1, 31), velo='False', changement=0),\n",
              " Row(id=1, timestamp=datetime.datetime(2018, 1, 1, 1, 32), velo='False', changement=0),\n",
              " Row(id=1, timestamp=datetime.datetime(2018, 1, 1, 1, 33), velo='False', changement=0),\n",
              " Row(id=1, timestamp=datetime.datetime(2018, 1, 1, 1, 34), velo='False', changement=0),\n",
              " Row(id=1, timestamp=datetime.datetime(2018, 1, 1, 1, 35), velo='False', changement=0),\n",
              " Row(id=1, timestamp=datetime.datetime(2018, 1, 1, 1, 36), velo='False', changement=0),\n",
              " Row(id=1, timestamp=datetime.datetime(2018, 1, 1, 1, 37), velo='False', changement=0),\n",
              " Row(id=1, timestamp=datetime.datetime(2018, 1, 1, 1, 38), velo='False', changement=0),\n",
              " Row(id=1, timestamp=datetime.datetime(2018, 1, 1, 1, 39), velo='False', changement=0),\n",
              " Row(id=1, timestamp=datetime.datetime(2018, 1, 1, 1, 40), velo='False', changement=0),\n",
              " Row(id=1, timestamp=datetime.datetime(2018, 1, 1, 1, 41), velo='False', changement=0),\n",
              " Row(id=1, timestamp=datetime.datetime(2018, 1, 1, 1, 42), velo='False', changement=0),\n",
              " Row(id=1, timestamp=datetime.datetime(2018, 1, 1, 1, 43), velo='False', changement=0),\n",
              " Row(id=1, timestamp=datetime.datetime(2018, 1, 1, 1, 44), velo='False', changement=0),\n",
              " Row(id=1, timestamp=datetime.datetime(2018, 1, 1, 1, 45), velo='False', changement=0),\n",
              " Row(id=1, timestamp=datetime.datetime(2018, 1, 1, 1, 46), velo='False', changement=0),\n",
              " Row(id=1, timestamp=datetime.datetime(2018, 1, 1, 1, 47), velo='False', changement=0),\n",
              " Row(id=1, timestamp=datetime.datetime(2018, 1, 1, 1, 48), velo='False', changement=0),\n",
              " Row(id=1, timestamp=datetime.datetime(2018, 1, 1, 1, 49), velo='False', changement=0),\n",
              " Row(id=1, timestamp=datetime.datetime(2018, 1, 1, 1, 50), velo='False', changement=0),\n",
              " Row(id=1, timestamp=datetime.datetime(2018, 1, 1, 1, 51), velo='False', changement=0),\n",
              " Row(id=1, timestamp=datetime.datetime(2018, 1, 1, 1, 52), velo='False', changement=0),\n",
              " Row(id=1, timestamp=datetime.datetime(2018, 1, 1, 1, 53), velo='False', changement=0),\n",
              " Row(id=1, timestamp=datetime.datetime(2018, 1, 1, 1, 54), velo='False', changement=0),\n",
              " Row(id=1, timestamp=datetime.datetime(2018, 1, 1, 1, 55), velo='False', changement=0),\n",
              " Row(id=1, timestamp=datetime.datetime(2018, 1, 1, 1, 56), velo='False', changement=0),\n",
              " Row(id=1, timestamp=datetime.datetime(2018, 1, 1, 1, 57), velo='False', changement=0),\n",
              " Row(id=1, timestamp=datetime.datetime(2018, 1, 1, 1, 58), velo='False', changement=0),\n",
              " Row(id=1, timestamp=datetime.datetime(2018, 1, 1, 1, 59), velo='False', changement=0),\n",
              " Row(id=1, timestamp=datetime.datetime(2018, 1, 1, 2, 0), velo='False', changement=0),\n",
              " Row(id=1, timestamp=datetime.datetime(2018, 1, 1, 2, 1), velo='False', changement=0),\n",
              " Row(id=1, timestamp=datetime.datetime(2018, 1, 1, 2, 2), velo='False', changement=0),\n",
              " Row(id=1, timestamp=datetime.datetime(2018, 1, 1, 2, 3), velo='False', changement=0),\n",
              " Row(id=1, timestamp=datetime.datetime(2018, 1, 1, 2, 4), velo='False', changement=0),\n",
              " Row(id=1, timestamp=datetime.datetime(2018, 1, 1, 2, 5), velo='False', changement=0),\n",
              " Row(id=1, timestamp=datetime.datetime(2018, 1, 1, 2, 6), velo='False', changement=0),\n",
              " Row(id=1, timestamp=datetime.datetime(2018, 1, 1, 2, 7), velo='False', changement=0),\n",
              " Row(id=1, timestamp=datetime.datetime(2018, 1, 1, 2, 8), velo='False', changement=0),\n",
              " Row(id=1, timestamp=datetime.datetime(2018, 1, 1, 2, 9), velo='False', changement=0),\n",
              " Row(id=1, timestamp=datetime.datetime(2018, 1, 1, 2, 10), velo='False', changement=0),\n",
              " Row(id=1, timestamp=datetime.datetime(2018, 1, 1, 2, 11), velo='False', changement=0),\n",
              " Row(id=1, timestamp=datetime.datetime(2018, 1, 1, 2, 12), velo='False', changement=0),\n",
              " Row(id=1, timestamp=datetime.datetime(2018, 1, 1, 2, 13), velo='False', changement=0),\n",
              " Row(id=1, timestamp=datetime.datetime(2018, 1, 1, 2, 14), velo='False', changement=0),\n",
              " Row(id=1, timestamp=datetime.datetime(2018, 1, 1, 2, 15), velo='False', changement=0),\n",
              " Row(id=1, timestamp=datetime.datetime(2018, 1, 1, 2, 16), velo='False', changement=0),\n",
              " Row(id=1, timestamp=datetime.datetime(2018, 1, 1, 2, 17), velo='False', changement=0),\n",
              " Row(id=1, timestamp=datetime.datetime(2018, 1, 1, 2, 18), velo='False', changement=0),\n",
              " Row(id=1, timestamp=datetime.datetime(2018, 1, 1, 2, 19), velo='False', changement=0),\n",
              " Row(id=1, timestamp=datetime.datetime(2018, 1, 1, 2, 20), velo='False', changement=0),\n",
              " Row(id=1, timestamp=datetime.datetime(2018, 1, 1, 2, 21), velo='False', changement=0),\n",
              " Row(id=1, timestamp=datetime.datetime(2018, 1, 1, 2, 22), velo='False', changement=0),\n",
              " Row(id=1, timestamp=datetime.datetime(2018, 1, 1, 2, 23), velo='False', changement=0),\n",
              " Row(id=1, timestamp=datetime.datetime(2018, 1, 1, 2, 24), velo='False', changement=0),\n",
              " Row(id=1, timestamp=datetime.datetime(2018, 1, 1, 2, 25), velo='False', changement=0),\n",
              " Row(id=1, timestamp=datetime.datetime(2018, 1, 1, 2, 26), velo='False', changement=0),\n",
              " Row(id=1, timestamp=datetime.datetime(2018, 1, 1, 2, 27), velo='False', changement=0),\n",
              " Row(id=1, timestamp=datetime.datetime(2018, 1, 1, 2, 28), velo='False', changement=0),\n",
              " Row(id=1, timestamp=datetime.datetime(2018, 1, 1, 2, 29), velo='False', changement=0),\n",
              " Row(id=1, timestamp=datetime.datetime(2018, 1, 1, 2, 30), velo='False', changement=0),\n",
              " Row(id=1, timestamp=datetime.datetime(2018, 1, 1, 2, 31), velo='False', changement=0),\n",
              " Row(id=1, timestamp=datetime.datetime(2018, 1, 1, 2, 32), velo='False', changement=0),\n",
              " Row(id=1, timestamp=datetime.datetime(2018, 1, 1, 2, 33), velo='False', changement=0),\n",
              " Row(id=1, timestamp=datetime.datetime(2018, 1, 1, 2, 34), velo='False', changement=0),\n",
              " Row(id=1, timestamp=datetime.datetime(2018, 1, 1, 2, 35), velo='False', changement=0),\n",
              " Row(id=1, timestamp=datetime.datetime(2018, 1, 1, 2, 36), velo='False', changement=0),\n",
              " Row(id=1, timestamp=datetime.datetime(2018, 1, 1, 2, 37), velo='False', changement=0),\n",
              " Row(id=1, timestamp=datetime.datetime(2018, 1, 1, 2, 38), velo='False', changement=0),\n",
              " Row(id=1, timestamp=datetime.datetime(2018, 1, 1, 2, 39), velo='False', changement=0),\n",
              " Row(id=1, timestamp=datetime.datetime(2018, 1, 1, 2, 40), velo='False', changement=0),\n",
              " Row(id=1, timestamp=datetime.datetime(2018, 1, 1, 2, 41), velo='False', changement=0),\n",
              " Row(id=1, timestamp=datetime.datetime(2018, 1, 1, 2, 42), velo='False', changement=0),\n",
              " Row(id=1, timestamp=datetime.datetime(2018, 1, 1, 2, 43), velo='False', changement=0),\n",
              " Row(id=1, timestamp=datetime.datetime(2018, 1, 1, 2, 44), velo='False', changement=0),\n",
              " Row(id=1, timestamp=datetime.datetime(2018, 1, 1, 2, 45), velo='False', changement=0),\n",
              " Row(id=1, timestamp=datetime.datetime(2018, 1, 1, 2, 46), velo='False', changement=0),\n",
              " Row(id=1, timestamp=datetime.datetime(2018, 1, 1, 2, 47), velo='False', changement=0),\n",
              " Row(id=1, timestamp=datetime.datetime(2018, 1, 1, 2, 48), velo='False', changement=0),\n",
              " Row(id=1, timestamp=datetime.datetime(2018, 1, 1, 2, 49), velo='False', changement=0),\n",
              " Row(id=1, timestamp=datetime.datetime(2018, 1, 1, 2, 50), velo='False', changement=0),\n",
              " Row(id=1, timestamp=datetime.datetime(2018, 1, 1, 2, 51), velo='False', changement=0),\n",
              " Row(id=1, timestamp=datetime.datetime(2018, 1, 1, 2, 52), velo='False', changement=0),\n",
              " Row(id=1, timestamp=datetime.datetime(2018, 1, 1, 2, 53), velo='False', changement=0),\n",
              " Row(id=1, timestamp=datetime.datetime(2018, 1, 1, 2, 54), velo='False', changement=0),\n",
              " Row(id=1, timestamp=datetime.datetime(2018, 1, 1, 2, 55), velo='False', changement=0),\n",
              " Row(id=1, timestamp=datetime.datetime(2018, 1, 1, 2, 56), velo='False', changement=0),\n",
              " Row(id=1, timestamp=datetime.datetime(2018, 1, 1, 2, 57), velo='False', changement=0),\n",
              " Row(id=1, timestamp=datetime.datetime(2018, 1, 1, 2, 58), velo='False', changement=0),\n",
              " Row(id=1, timestamp=datetime.datetime(2018, 1, 1, 2, 59), velo='False', changement=0),\n",
              " Row(id=1, timestamp=datetime.datetime(2018, 1, 1, 3, 0), velo='False', changement=0),\n",
              " Row(id=1, timestamp=datetime.datetime(2018, 1, 1, 3, 1), velo='False', changement=0),\n",
              " Row(id=1, timestamp=datetime.datetime(2018, 1, 1, 3, 2), velo='False', changement=0),\n",
              " Row(id=1, timestamp=datetime.datetime(2018, 1, 1, 3, 3), velo='False', changement=0),\n",
              " Row(id=1, timestamp=datetime.datetime(2018, 1, 1, 3, 4), velo='False', changement=0),\n",
              " Row(id=1, timestamp=datetime.datetime(2018, 1, 1, 3, 5), velo='False', changement=0),\n",
              " Row(id=1, timestamp=datetime.datetime(2018, 1, 1, 3, 6), velo='False', changement=0),\n",
              " Row(id=1, timestamp=datetime.datetime(2018, 1, 1, 3, 7), velo='False', changement=0),\n",
              " Row(id=1, timestamp=datetime.datetime(2018, 1, 1, 3, 8), velo='False', changement=0),\n",
              " Row(id=1, timestamp=datetime.datetime(2018, 1, 1, 3, 9), velo='False', changement=0),\n",
              " Row(id=1, timestamp=datetime.datetime(2018, 1, 1, 3, 10), velo='False', changement=0),\n",
              " Row(id=1, timestamp=datetime.datetime(2018, 1, 1, 3, 11), velo='False', changement=0),\n",
              " Row(id=1, timestamp=datetime.datetime(2018, 1, 1, 3, 12), velo='False', changement=0),\n",
              " Row(id=1, timestamp=datetime.datetime(2018, 1, 1, 3, 13), velo='False', changement=0),\n",
              " Row(id=1, timestamp=datetime.datetime(2018, 1, 1, 3, 14), velo='False', changement=0),\n",
              " Row(id=1, timestamp=datetime.datetime(2018, 1, 1, 3, 15), velo='False', changement=0),\n",
              " Row(id=1, timestamp=datetime.datetime(2018, 1, 1, 3, 16), velo='False', changement=0),\n",
              " Row(id=1, timestamp=datetime.datetime(2018, 1, 1, 3, 17), velo='False', changement=0),\n",
              " Row(id=1, timestamp=datetime.datetime(2018, 1, 1, 3, 18), velo='False', changement=0),\n",
              " Row(id=1, timestamp=datetime.datetime(2018, 1, 1, 3, 19), velo='False', changement=0),\n",
              " Row(id=1, timestamp=datetime.datetime(2018, 1, 1, 3, 20), velo='False', changement=0),\n",
              " Row(id=1, timestamp=datetime.datetime(2018, 1, 1, 3, 21), velo='False', changement=0),\n",
              " Row(id=1, timestamp=datetime.datetime(2018, 1, 1, 3, 22), velo='False', changement=0),\n",
              " Row(id=1, timestamp=datetime.datetime(2018, 1, 1, 3, 23), velo='False', changement=0),\n",
              " Row(id=1, timestamp=datetime.datetime(2018, 1, 1, 3, 24), velo='False', changement=0),\n",
              " Row(id=1, timestamp=datetime.datetime(2018, 1, 1, 3, 25), velo='False', changement=0),\n",
              " Row(id=1, timestamp=datetime.datetime(2018, 1, 1, 3, 26), velo='False', changement=0),\n",
              " Row(id=1, timestamp=datetime.datetime(2018, 1, 1, 3, 27), velo='False', changement=0),\n",
              " Row(id=1, timestamp=datetime.datetime(2018, 1, 1, 3, 28), velo='False', changement=0),\n",
              " Row(id=1, timestamp=datetime.datetime(2018, 1, 1, 3, 29), velo='False', changement=0),\n",
              " Row(id=1, timestamp=datetime.datetime(2018, 1, 1, 3, 30), velo='False', changement=0),\n",
              " Row(id=1, timestamp=datetime.datetime(2018, 1, 1, 3, 31), velo='False', changement=0),\n",
              " Row(id=1, timestamp=datetime.datetime(2018, 1, 1, 3, 32), velo='False', changement=0),\n",
              " Row(id=1, timestamp=datetime.datetime(2018, 1, 1, 3, 33), velo='False', changement=0),\n",
              " Row(id=1, timestamp=datetime.datetime(2018, 1, 1, 3, 34), velo='False', changement=0),\n",
              " Row(id=1, timestamp=datetime.datetime(2018, 1, 1, 3, 35), velo='False', changement=0),\n",
              " Row(id=1, timestamp=datetime.datetime(2018, 1, 1, 3, 36), velo='False', changement=0),\n",
              " Row(id=1, timestamp=datetime.datetime(2018, 1, 1, 3, 37), velo='False', changement=0),\n",
              " Row(id=1, timestamp=datetime.datetime(2018, 1, 1, 3, 38), velo='False', changement=0),\n",
              " Row(id=1, timestamp=datetime.datetime(2018, 1, 1, 3, 39), velo='False', changement=0),\n",
              " Row(id=1, timestamp=datetime.datetime(2018, 1, 1, 3, 40), velo='False', changement=0),\n",
              " Row(id=1, timestamp=datetime.datetime(2018, 1, 1, 3, 41), velo='False', changement=0),\n",
              " Row(id=1, timestamp=datetime.datetime(2018, 1, 1, 3, 42), velo='False', changement=0),\n",
              " Row(id=1, timestamp=datetime.datetime(2018, 1, 1, 3, 43), velo='False', changement=0),\n",
              " Row(id=1, timestamp=datetime.datetime(2018, 1, 1, 3, 44), velo='False', changement=0),\n",
              " Row(id=1, timestamp=datetime.datetime(2018, 1, 1, 3, 45), velo='False', changement=0),\n",
              " Row(id=1, timestamp=datetime.datetime(2018, 1, 1, 3, 46), velo='False', changement=0),\n",
              " Row(id=1, timestamp=datetime.datetime(2018, 1, 1, 3, 47), velo='False', changement=0),\n",
              " Row(id=1, timestamp=datetime.datetime(2018, 1, 1, 3, 48), velo='False', changement=0),\n",
              " Row(id=1, timestamp=datetime.datetime(2018, 1, 1, 3, 49), velo='False', changement=0),\n",
              " Row(id=1, timestamp=datetime.datetime(2018, 1, 1, 3, 50), velo='False', changement=0),\n",
              " Row(id=1, timestamp=datetime.datetime(2018, 1, 1, 3, 51), velo='False', changement=0),\n",
              " Row(id=1, timestamp=datetime.datetime(2018, 1, 1, 3, 52), velo='False', changement=0),\n",
              " Row(id=1, timestamp=datetime.datetime(2018, 1, 1, 3, 53), velo='False', changement=0),\n",
              " Row(id=1, timestamp=datetime.datetime(2018, 1, 1, 3, 54), velo='False', changement=0),\n",
              " Row(id=1, timestamp=datetime.datetime(2018, 1, 1, 3, 55), velo='False', changement=0),\n",
              " Row(id=1, timestamp=datetime.datetime(2018, 1, 1, 3, 56), velo='False', changement=0),\n",
              " Row(id=1, timestamp=datetime.datetime(2018, 1, 1, 3, 57), velo='False', changement=0),\n",
              " Row(id=1, timestamp=datetime.datetime(2018, 1, 1, 3, 58), velo='False', changement=0),\n",
              " Row(id=1, timestamp=datetime.datetime(2018, 1, 1, 3, 59), velo='False', changement=0),\n",
              " Row(id=1, timestamp=datetime.datetime(2018, 1, 1, 4, 0), velo='False', changement=0),\n",
              " Row(id=1, timestamp=datetime.datetime(2018, 1, 1, 4, 1), velo='False', changement=0),\n",
              " Row(id=1, timestamp=datetime.datetime(2018, 1, 1, 4, 2), velo='False', changement=0),\n",
              " Row(id=1, timestamp=datetime.datetime(2018, 1, 1, 4, 3), velo='False', changement=0),\n",
              " Row(id=1, timestamp=datetime.datetime(2018, 1, 1, 4, 4), velo='False', changement=0),\n",
              " Row(id=1, timestamp=datetime.datetime(2018, 1, 1, 4, 5), velo='False', changement=0),\n",
              " Row(id=1, timestamp=datetime.datetime(2018, 1, 1, 4, 6), velo='False', changement=0),\n",
              " Row(id=1, timestamp=datetime.datetime(2018, 1, 1, 4, 7), velo='False', changement=0),\n",
              " Row(id=1, timestamp=datetime.datetime(2018, 1, 1, 4, 8), velo='False', changement=0),\n",
              " Row(id=1, timestamp=datetime.datetime(2018, 1, 1, 4, 9), velo='False', changement=0),\n",
              " Row(id=1, timestamp=datetime.datetime(2018, 1, 1, 4, 10), velo='False', changement=0),\n",
              " Row(id=1, timestamp=datetime.datetime(2018, 1, 1, 4, 11), velo='False', changement=0),\n",
              " Row(id=1, timestamp=datetime.datetime(2018, 1, 1, 4, 12), velo='False', changement=0),\n",
              " Row(id=1, timestamp=datetime.datetime(2018, 1, 1, 4, 13), velo='False', changement=0),\n",
              " Row(id=1, timestamp=datetime.datetime(2018, 1, 1, 4, 14), velo='False', changement=0),\n",
              " Row(id=1, timestamp=datetime.datetime(2018, 1, 1, 4, 15), velo='False', changement=0),\n",
              " Row(id=1, timestamp=datetime.datetime(2018, 1, 1, 4, 16), velo='False', changement=0),\n",
              " Row(id=1, timestamp=datetime.datetime(2018, 1, 1, 4, 17), velo='False', changement=0),\n",
              " Row(id=1, timestamp=datetime.datetime(2018, 1, 1, 4, 18), velo='False', changement=0),\n",
              " Row(id=1, timestamp=datetime.datetime(2018, 1, 1, 4, 19), velo='False', changement=0),\n",
              " Row(id=1, timestamp=datetime.datetime(2018, 1, 1, 4, 20), velo='False', changement=0),\n",
              " Row(id=1, timestamp=datetime.datetime(2018, 1, 1, 4, 21), velo='False', changement=0),\n",
              " Row(id=1, timestamp=datetime.datetime(2018, 1, 1, 4, 22), velo='False', changement=0),\n",
              " Row(id=1, timestamp=datetime.datetime(2018, 1, 1, 4, 23), velo='False', changement=0),\n",
              " Row(id=1, timestamp=datetime.datetime(2018, 1, 1, 4, 24), velo='False', changement=0),\n",
              " Row(id=1, timestamp=datetime.datetime(2018, 1, 1, 4, 25), velo='False', changement=0),\n",
              " Row(id=1, timestamp=datetime.datetime(2018, 1, 1, 4, 26), velo='False', changement=0),\n",
              " Row(id=1, timestamp=datetime.datetime(2018, 1, 1, 4, 27), velo='False', changement=0),\n",
              " Row(id=1, timestamp=datetime.datetime(2018, 1, 1, 4, 28), velo='False', changement=0),\n",
              " Row(id=1, timestamp=datetime.datetime(2018, 1, 1, 4, 29), velo='False', changement=0),\n",
              " Row(id=1, timestamp=datetime.datetime(2018, 1, 1, 4, 30), velo='False', changement=0),\n",
              " Row(id=1, timestamp=datetime.datetime(2018, 1, 1, 4, 31), velo='False', changement=0),\n",
              " Row(id=1, timestamp=datetime.datetime(2018, 1, 1, 4, 32), velo='False', changement=0),\n",
              " Row(id=1, timestamp=datetime.datetime(2018, 1, 1, 4, 33), velo='False', changement=0),\n",
              " Row(id=1, timestamp=datetime.datetime(2018, 1, 1, 4, 34), velo='False', changement=0),\n",
              " Row(id=1, timestamp=datetime.datetime(2018, 1, 1, 4, 35), velo='False', changement=0),\n",
              " Row(id=1, timestamp=datetime.datetime(2018, 1, 1, 4, 36), velo='False', changement=0),\n",
              " Row(id=1, timestamp=datetime.datetime(2018, 1, 1, 4, 37), velo='False', changement=0),\n",
              " Row(id=1, timestamp=datetime.datetime(2018, 1, 1, 4, 38), velo='False', changement=0),\n",
              " Row(id=1, timestamp=datetime.datetime(2018, 1, 1, 4, 39), velo='False', changement=0),\n",
              " Row(id=1, timestamp=datetime.datetime(2018, 1, 1, 4, 40), velo='False', changement=0),\n",
              " Row(id=1, timestamp=datetime.datetime(2018, 1, 1, 4, 41), velo='False', changement=0),\n",
              " Row(id=1, timestamp=datetime.datetime(2018, 1, 1, 4, 42), velo='False', changement=0),\n",
              " Row(id=1, timestamp=datetime.datetime(2018, 1, 1, 4, 43), velo='False', changement=0),\n",
              " Row(id=1, timestamp=datetime.datetime(2018, 1, 1, 4, 44), velo='False', changement=0),\n",
              " Row(id=1, timestamp=datetime.datetime(2018, 1, 1, 4, 45), velo='False', changement=0),\n",
              " Row(id=1, timestamp=datetime.datetime(2018, 1, 1, 4, 46), velo='False', changement=0),\n",
              " Row(id=1, timestamp=datetime.datetime(2018, 1, 1, 4, 47), velo='False', changement=0),\n",
              " Row(id=1, timestamp=datetime.datetime(2018, 1, 1, 4, 48), velo='False', changement=0),\n",
              " Row(id=1, timestamp=datetime.datetime(2018, 1, 1, 4, 49), velo='False', changement=0),\n",
              " Row(id=1, timestamp=datetime.datetime(2018, 1, 1, 4, 50), velo='False', changement=0),\n",
              " Row(id=1, timestamp=datetime.datetime(2018, 1, 1, 4, 51), velo='False', changement=0),\n",
              " Row(id=1, timestamp=datetime.datetime(2018, 1, 1, 4, 52), velo='False', changement=0),\n",
              " Row(id=1, timestamp=datetime.datetime(2018, 1, 1, 4, 53), velo='False', changement=0),\n",
              " Row(id=1, timestamp=datetime.datetime(2018, 1, 1, 4, 54), velo='False', changement=0),\n",
              " Row(id=1, timestamp=datetime.datetime(2018, 1, 1, 4, 55), velo='False', changement=0),\n",
              " Row(id=1, timestamp=datetime.datetime(2018, 1, 1, 4, 56), velo='False', changement=0),\n",
              " Row(id=1, timestamp=datetime.datetime(2018, 1, 1, 4, 57), velo='False', changement=0),\n",
              " Row(id=1, timestamp=datetime.datetime(2018, 1, 1, 4, 58), velo='False', changement=0),\n",
              " Row(id=1, timestamp=datetime.datetime(2018, 1, 1, 4, 59), velo='False', changement=0),\n",
              " Row(id=1, timestamp=datetime.datetime(2018, 1, 1, 5, 0), velo='False', changement=0),\n",
              " Row(id=1, timestamp=datetime.datetime(2018, 1, 1, 5, 1), velo='False', changement=0),\n",
              " Row(id=1, timestamp=datetime.datetime(2018, 1, 1, 5, 2), velo='False', changement=0),\n",
              " Row(id=1, timestamp=datetime.datetime(2018, 1, 1, 5, 3), velo='False', changement=0),\n",
              " Row(id=1, timestamp=datetime.datetime(2018, 1, 1, 5, 4), velo='False', changement=0),\n",
              " Row(id=1, timestamp=datetime.datetime(2018, 1, 1, 5, 5), velo='False', changement=0),\n",
              " Row(id=1, timestamp=datetime.datetime(2018, 1, 1, 5, 6), velo='False', changement=0),\n",
              " Row(id=1, timestamp=datetime.datetime(2018, 1, 1, 5, 7), velo='False', changement=0),\n",
              " Row(id=1, timestamp=datetime.datetime(2018, 1, 1, 5, 8), velo='False', changement=0),\n",
              " Row(id=1, timestamp=datetime.datetime(2018, 1, 1, 5, 9), velo='False', changement=0),\n",
              " Row(id=1, timestamp=datetime.datetime(2018, 1, 1, 5, 10), velo='False', changement=0),\n",
              " Row(id=1, timestamp=datetime.datetime(2018, 1, 1, 5, 11), velo='False', changement=0),\n",
              " Row(id=1, timestamp=datetime.datetime(2018, 1, 1, 5, 12), velo='False', changement=0),\n",
              " Row(id=1, timestamp=datetime.datetime(2018, 1, 1, 5, 13), velo='False', changement=0),\n",
              " Row(id=1, timestamp=datetime.datetime(2018, 1, 1, 5, 14), velo='False', changement=0),\n",
              " Row(id=1, timestamp=datetime.datetime(2018, 1, 1, 5, 15), velo='False', changement=0),\n",
              " Row(id=1, timestamp=datetime.datetime(2018, 1, 1, 5, 16), velo='False', changement=0),\n",
              " Row(id=1, timestamp=datetime.datetime(2018, 1, 1, 5, 17), velo='False', changement=0),\n",
              " Row(id=1, timestamp=datetime.datetime(2018, 1, 1, 5, 18), velo='False', changement=0),\n",
              " Row(id=1, timestamp=datetime.datetime(2018, 1, 1, 5, 19), velo='False', changement=0),\n",
              " Row(id=1, timestamp=datetime.datetime(2018, 1, 1, 5, 20), velo='False', changement=0),\n",
              " Row(id=1, timestamp=datetime.datetime(2018, 1, 1, 5, 21), velo='False', changement=0),\n",
              " Row(id=1, timestamp=datetime.datetime(2018, 1, 1, 5, 22), velo='False', changement=0),\n",
              " Row(id=1, timestamp=datetime.datetime(2018, 1, 1, 5, 23), velo='False', changement=0),\n",
              " Row(id=1, timestamp=datetime.datetime(2018, 1, 1, 5, 24), velo='False', changement=0),\n",
              " Row(id=1, timestamp=datetime.datetime(2018, 1, 1, 5, 25), velo='False', changement=0),\n",
              " Row(id=1, timestamp=datetime.datetime(2018, 1, 1, 5, 26), velo='False', changement=0),\n",
              " Row(id=1, timestamp=datetime.datetime(2018, 1, 1, 5, 27), velo='False', changement=0),\n",
              " Row(id=1, timestamp=datetime.datetime(2018, 1, 1, 5, 28), velo='False', changement=0),\n",
              " Row(id=1, timestamp=datetime.datetime(2018, 1, 1, 5, 29), velo='False', changement=0),\n",
              " Row(id=1, timestamp=datetime.datetime(2018, 1, 1, 5, 30), velo='False', changement=0),\n",
              " Row(id=1, timestamp=datetime.datetime(2018, 1, 1, 5, 31), velo='False', changement=0),\n",
              " Row(id=1, timestamp=datetime.datetime(2018, 1, 1, 5, 32), velo='False', changement=0),\n",
              " Row(id=1, timestamp=datetime.datetime(2018, 1, 1, 5, 33), velo='False', changement=0),\n",
              " Row(id=1, timestamp=datetime.datetime(2018, 1, 1, 5, 34), velo='False', changement=0),\n",
              " Row(id=1, timestamp=datetime.datetime(2018, 1, 1, 5, 35), velo='False', changement=0),\n",
              " Row(id=1, timestamp=datetime.datetime(2018, 1, 1, 5, 36), velo='False', changement=0),\n",
              " Row(id=1, timestamp=datetime.datetime(2018, 1, 1, 5, 37), velo='False', changement=0),\n",
              " Row(id=1, timestamp=datetime.datetime(2018, 1, 1, 5, 38), velo='False', changement=0),\n",
              " Row(id=1, timestamp=datetime.datetime(2018, 1, 1, 5, 39), velo='False', changement=0),\n",
              " Row(id=1, timestamp=datetime.datetime(2018, 1, 1, 5, 40), velo='False', changement=0),\n",
              " Row(id=1, timestamp=datetime.datetime(2018, 1, 1, 5, 41), velo='False', changement=0),\n",
              " Row(id=1, timestamp=datetime.datetime(2018, 1, 1, 5, 42), velo='False', changement=0),\n",
              " Row(id=1, timestamp=datetime.datetime(2018, 1, 1, 5, 43), velo='False', changement=0),\n",
              " Row(id=1, timestamp=datetime.datetime(2018, 1, 1, 5, 44), velo='False', changement=0),\n",
              " Row(id=1, timestamp=datetime.datetime(2018, 1, 1, 5, 45), velo='False', changement=0),\n",
              " Row(id=1, timestamp=datetime.datetime(2018, 1, 1, 5, 46), velo='False', changement=0),\n",
              " Row(id=1, timestamp=datetime.datetime(2018, 1, 1, 5, 47), velo='False', changement=0),\n",
              " Row(id=1, timestamp=datetime.datetime(2018, 1, 1, 5, 48), velo='False', changement=0),\n",
              " Row(id=1, timestamp=datetime.datetime(2018, 1, 1, 5, 49), velo='False', changement=0),\n",
              " Row(id=1, timestamp=datetime.datetime(2018, 1, 1, 5, 50), velo='False', changement=0),\n",
              " Row(id=1, timestamp=datetime.datetime(2018, 1, 1, 5, 51), velo='False', changement=0),\n",
              " Row(id=1, timestamp=datetime.datetime(2018, 1, 1, 5, 52), velo='False', changement=0),\n",
              " Row(id=1, timestamp=datetime.datetime(2018, 1, 1, 5, 53), velo='False', changement=0),\n",
              " Row(id=1, timestamp=datetime.datetime(2018, 1, 1, 5, 54), velo='False', changement=0),\n",
              " Row(id=1, timestamp=datetime.datetime(2018, 1, 1, 5, 55), velo='False', changement=0),\n",
              " Row(id=1, timestamp=datetime.datetime(2018, 1, 1, 5, 56), velo='False', changement=0),\n",
              " Row(id=1, timestamp=datetime.datetime(2018, 1, 1, 5, 57), velo='False', changement=0),\n",
              " Row(id=1, timestamp=datetime.datetime(2018, 1, 1, 5, 58), velo='False', changement=0),\n",
              " Row(id=1, timestamp=datetime.datetime(2018, 1, 1, 5, 59), velo='False', changement=0),\n",
              " Row(id=1, timestamp=datetime.datetime(2018, 1, 1, 6, 0), velo='False', changement=0),\n",
              " Row(id=1, timestamp=datetime.datetime(2018, 1, 1, 6, 1), velo='False', changement=0),\n",
              " Row(id=1, timestamp=datetime.datetime(2018, 1, 1, 6, 2), velo='False', changement=0),\n",
              " Row(id=1, timestamp=datetime.datetime(2018, 1, 1, 6, 3), velo='False', changement=0),\n",
              " Row(id=1, timestamp=datetime.datetime(2018, 1, 1, 6, 4), velo='False', changement=0),\n",
              " Row(id=1, timestamp=datetime.datetime(2018, 1, 1, 6, 5), velo='False', changement=0),\n",
              " Row(id=1, timestamp=datetime.datetime(2018, 1, 1, 6, 6), velo='False', changement=0),\n",
              " Row(id=1, timestamp=datetime.datetime(2018, 1, 1, 6, 7), velo='False', changement=0),\n",
              " Row(id=1, timestamp=datetime.datetime(2018, 1, 1, 6, 8), velo='False', changement=0),\n",
              " Row(id=1, timestamp=datetime.datetime(2018, 1, 1, 6, 9), velo='False', changement=0),\n",
              " Row(id=1, timestamp=datetime.datetime(2018, 1, 1, 6, 10), velo='False', changement=0),\n",
              " Row(id=1, timestamp=datetime.datetime(2018, 1, 1, 6, 11), velo='False', changement=0),\n",
              " Row(id=1, timestamp=datetime.datetime(2018, 1, 1, 6, 12), velo='False', changement=0),\n",
              " Row(id=1, timestamp=datetime.datetime(2018, 1, 1, 6, 13), velo='False', changement=0),\n",
              " Row(id=1, timestamp=datetime.datetime(2018, 1, 1, 6, 14), velo='False', changement=0),\n",
              " Row(id=1, timestamp=datetime.datetime(2018, 1, 1, 6, 15), velo='False', changement=0),\n",
              " Row(id=1, timestamp=datetime.datetime(2018, 1, 1, 6, 16), velo='False', changement=0),\n",
              " Row(id=1, timestamp=datetime.datetime(2018, 1, 1, 6, 17), velo='False', changement=0),\n",
              " Row(id=1, timestamp=datetime.datetime(2018, 1, 1, 6, 18), velo='False', changement=0),\n",
              " Row(id=1, timestamp=datetime.datetime(2018, 1, 1, 6, 19), velo='False', changement=0),\n",
              " Row(id=1, timestamp=datetime.datetime(2018, 1, 1, 6, 20), velo='False', changement=0),\n",
              " Row(id=1, timestamp=datetime.datetime(2018, 1, 1, 6, 21), velo='False', changement=0),\n",
              " Row(id=1, timestamp=datetime.datetime(2018, 1, 1, 6, 22), velo='False', changement=0),\n",
              " Row(id=1, timestamp=datetime.datetime(2018, 1, 1, 6, 23), velo='False', changement=0),\n",
              " Row(id=1, timestamp=datetime.datetime(2018, 1, 1, 6, 24), velo='False', changement=0),\n",
              " Row(id=1, timestamp=datetime.datetime(2018, 1, 1, 6, 25), velo='False', changement=0),\n",
              " Row(id=1, timestamp=datetime.datetime(2018, 1, 1, 6, 26), velo='False', changement=0),\n",
              " Row(id=1, timestamp=datetime.datetime(2018, 1, 1, 6, 27), velo='False', changement=0),\n",
              " Row(id=1, timestamp=datetime.datetime(2018, 1, 1, 6, 28), velo='False', changement=0),\n",
              " Row(id=1, timestamp=datetime.datetime(2018, 1, 1, 6, 29), velo='False', changement=0),\n",
              " Row(id=1, timestamp=datetime.datetime(2018, 1, 1, 6, 30), velo='False', changement=0),\n",
              " Row(id=1, timestamp=datetime.datetime(2018, 1, 1, 6, 31), velo='False', changement=0),\n",
              " Row(id=1, timestamp=datetime.datetime(2018, 1, 1, 6, 32), velo='False', changement=0),\n",
              " Row(id=1, timestamp=datetime.datetime(2018, 1, 1, 6, 33), velo='False', changement=0),\n",
              " Row(id=1, timestamp=datetime.datetime(2018, 1, 1, 6, 34), velo='False', changement=0),\n",
              " Row(id=1, timestamp=datetime.datetime(2018, 1, 1, 6, 35), velo='False', changement=0),\n",
              " Row(id=1, timestamp=datetime.datetime(2018, 1, 1, 6, 36), velo='False', changement=0),\n",
              " Row(id=1, timestamp=datetime.datetime(2018, 1, 1, 6, 37), velo='False', changement=0),\n",
              " Row(id=1, timestamp=datetime.datetime(2018, 1, 1, 6, 38), velo='False', changement=0),\n",
              " Row(id=1, timestamp=datetime.datetime(2018, 1, 1, 6, 39), velo='False', changement=0),\n",
              " Row(id=1, timestamp=datetime.datetime(2018, 1, 1, 6, 40), velo='False', changement=0),\n",
              " Row(id=1, timestamp=datetime.datetime(2018, 1, 1, 6, 41), velo='False', changement=0),\n",
              " Row(id=1, timestamp=datetime.datetime(2018, 1, 1, 6, 42), velo='False', changement=0),\n",
              " Row(id=1, timestamp=datetime.datetime(2018, 1, 1, 6, 43), velo='False', changement=0),\n",
              " Row(id=1, timestamp=datetime.datetime(2018, 1, 1, 6, 44), velo='False', changement=0),\n",
              " Row(id=1, timestamp=datetime.datetime(2018, 1, 1, 6, 45), velo='False', changement=0),\n",
              " Row(id=1, timestamp=datetime.datetime(2018, 1, 1, 6, 46), velo='False', changement=0),\n",
              " Row(id=1, timestamp=datetime.datetime(2018, 1, 1, 6, 47), velo='False', changement=0),\n",
              " Row(id=1, timestamp=datetime.datetime(2018, 1, 1, 6, 48), velo='False', changement=0),\n",
              " Row(id=1, timestamp=datetime.datetime(2018, 1, 1, 6, 49), velo='False', changement=0),\n",
              " Row(id=1, timestamp=datetime.datetime(2018, 1, 1, 6, 50), velo='False', changement=0),\n",
              " Row(id=1, timestamp=datetime.datetime(2018, 1, 1, 6, 51), velo='False', changement=0),\n",
              " Row(id=1, timestamp=datetime.datetime(2018, 1, 1, 6, 52), velo='False', changement=0),\n",
              " Row(id=1, timestamp=datetime.datetime(2018, 1, 1, 6, 53), velo='False', changement=0),\n",
              " Row(id=1, timestamp=datetime.datetime(2018, 1, 1, 6, 54), velo='False', changement=0),\n",
              " Row(id=1, timestamp=datetime.datetime(2018, 1, 1, 6, 55), velo='False', changement=0),\n",
              " Row(id=1, timestamp=datetime.datetime(2018, 1, 1, 6, 56), velo='False', changement=0),\n",
              " Row(id=1, timestamp=datetime.datetime(2018, 1, 1, 6, 57), velo='False', changement=0),\n",
              " Row(id=1, timestamp=datetime.datetime(2018, 1, 1, 6, 58), velo='False', changement=0),\n",
              " Row(id=1, timestamp=datetime.datetime(2018, 1, 1, 6, 59), velo='False', changement=0),\n",
              " Row(id=1, timestamp=datetime.datetime(2018, 1, 1, 7, 0), velo='False', changement=0),\n",
              " Row(id=1, timestamp=datetime.datetime(2018, 1, 1, 7, 1), velo='False', changement=0),\n",
              " Row(id=1, timestamp=datetime.datetime(2018, 1, 1, 7, 2), velo='False', changement=0),\n",
              " Row(id=1, timestamp=datetime.datetime(2018, 1, 1, 7, 3), velo='False', changement=0),\n",
              " Row(id=1, timestamp=datetime.datetime(2018, 1, 1, 7, 4), velo='False', changement=0),\n",
              " Row(id=1, timestamp=datetime.datetime(2018, 1, 1, 7, 5), velo='False', changement=0),\n",
              " Row(id=1, timestamp=datetime.datetime(2018, 1, 1, 7, 6), velo='False', changement=0),\n",
              " Row(id=1, timestamp=datetime.datetime(2018, 1, 1, 7, 7), velo='False', changement=0),\n",
              " Row(id=1, timestamp=datetime.datetime(2018, 1, 1, 7, 8), velo='False', changement=0),\n",
              " Row(id=1, timestamp=datetime.datetime(2018, 1, 1, 7, 9), velo='False', changement=0),\n",
              " Row(id=1, timestamp=datetime.datetime(2018, 1, 1, 7, 10), velo='False', changement=0),\n",
              " Row(id=1, timestamp=datetime.datetime(2018, 1, 1, 7, 11), velo='False', changement=0),\n",
              " Row(id=1, timestamp=datetime.datetime(2018, 1, 1, 7, 12), velo='False', changement=0),\n",
              " Row(id=1, timestamp=datetime.datetime(2018, 1, 1, 7, 13), velo='False', changement=0),\n",
              " Row(id=1, timestamp=datetime.datetime(2018, 1, 1, 7, 14), velo='False', changement=0),\n",
              " Row(id=1, timestamp=datetime.datetime(2018, 1, 1, 7, 15), velo='False', changement=0),\n",
              " Row(id=1, timestamp=datetime.datetime(2018, 1, 1, 7, 16), velo='False', changement=0),\n",
              " Row(id=1, timestamp=datetime.datetime(2018, 1, 1, 7, 17), velo='False', changement=0),\n",
              " Row(id=1, timestamp=datetime.datetime(2018, 1, 1, 7, 18), velo='False', changement=0),\n",
              " Row(id=1, timestamp=datetime.datetime(2018, 1, 1, 7, 19), velo='False', changement=0),\n",
              " Row(id=1, timestamp=datetime.datetime(2018, 1, 1, 7, 20), velo='False', changement=0),\n",
              " Row(id=1, timestamp=datetime.datetime(2018, 1, 1, 7, 21), velo='False', changement=0),\n",
              " Row(id=1, timestamp=datetime.datetime(2018, 1, 1, 7, 22), velo='False', changement=0),\n",
              " Row(id=1, timestamp=datetime.datetime(2018, 1, 1, 7, 23), velo='False', changement=0),\n",
              " Row(id=1, timestamp=datetime.datetime(2018, 1, 1, 7, 24), velo='False', changement=0),\n",
              " Row(id=1, timestamp=datetime.datetime(2018, 1, 1, 7, 25), velo='False', changement=0),\n",
              " Row(id=1, timestamp=datetime.datetime(2018, 1, 1, 7, 26), velo='False', changement=0),\n",
              " Row(id=1, timestamp=datetime.datetime(2018, 1, 1, 7, 27), velo='False', changement=0),\n",
              " Row(id=1, timestamp=datetime.datetime(2018, 1, 1, 7, 28), velo='False', changement=0),\n",
              " Row(id=1, timestamp=datetime.datetime(2018, 1, 1, 7, 29), velo='False', changement=0),\n",
              " Row(id=1, timestamp=datetime.datetime(2018, 1, 1, 7, 30), velo='False', changement=0),\n",
              " Row(id=1, timestamp=datetime.datetime(2018, 1, 1, 7, 31), velo='False', changement=0),\n",
              " Row(id=1, timestamp=datetime.datetime(2018, 1, 1, 7, 32), velo='False', changement=0),\n",
              " Row(id=1, timestamp=datetime.datetime(2018, 1, 1, 7, 33), velo='False', changement=0),\n",
              " Row(id=1, timestamp=datetime.datetime(2018, 1, 1, 7, 34), velo='False', changement=0),\n",
              " Row(id=1, timestamp=datetime.datetime(2018, 1, 1, 7, 35), velo='False', changement=0),\n",
              " Row(id=1, timestamp=datetime.datetime(2018, 1, 1, 7, 36), velo='False', changement=0),\n",
              " Row(id=1, timestamp=datetime.datetime(2018, 1, 1, 7, 37), velo='False', changement=0),\n",
              " Row(id=1, timestamp=datetime.datetime(2018, 1, 1, 7, 38), velo='False', changement=0),\n",
              " Row(id=1, timestamp=datetime.datetime(2018, 1, 1, 7, 39), velo='False', changement=0),\n",
              " Row(id=1, timestamp=datetime.datetime(2018, 1, 1, 7, 40), velo='False', changement=0),\n",
              " Row(id=1, timestamp=datetime.datetime(2018, 1, 1, 7, 41), velo='False', changement=0),\n",
              " Row(id=1, timestamp=datetime.datetime(2018, 1, 1, 7, 42), velo='False', changement=0),\n",
              " Row(id=1, timestamp=datetime.datetime(2018, 1, 1, 7, 43), velo='False', changement=0),\n",
              " Row(id=1, timestamp=datetime.datetime(2018, 1, 1, 7, 44), velo='False', changement=0),\n",
              " Row(id=1, timestamp=datetime.datetime(2018, 1, 1, 7, 45), velo='False', changement=0),\n",
              " Row(id=1, timestamp=datetime.datetime(2018, 1, 1, 7, 46), velo='False', changement=0),\n",
              " Row(id=1, timestamp=datetime.datetime(2018, 1, 1, 7, 47), velo='False', changement=0),\n",
              " Row(id=1, timestamp=datetime.datetime(2018, 1, 1, 7, 48), velo='False', changement=0),\n",
              " Row(id=1, timestamp=datetime.datetime(2018, 1, 1, 7, 49), velo='False', changement=0),\n",
              " Row(id=1, timestamp=datetime.datetime(2018, 1, 1, 7, 50), velo='False', changement=0),\n",
              " Row(id=1, timestamp=datetime.datetime(2018, 1, 1, 7, 51), velo='False', changement=0),\n",
              " Row(id=1, timestamp=datetime.datetime(2018, 1, 1, 7, 52), velo='False', changement=0),\n",
              " Row(id=1, timestamp=datetime.datetime(2018, 1, 1, 7, 53), velo='False', changement=0),\n",
              " Row(id=1, timestamp=datetime.datetime(2018, 1, 1, 7, 54), velo='False', changement=0),\n",
              " Row(id=1, timestamp=datetime.datetime(2018, 1, 1, 7, 55), velo='False', changement=0),\n",
              " Row(id=1, timestamp=datetime.datetime(2018, 1, 1, 7, 56), velo='False', changement=0),\n",
              " Row(id=1, timestamp=datetime.datetime(2018, 1, 1, 7, 57), velo='False', changement=0),\n",
              " Row(id=1, timestamp=datetime.datetime(2018, 1, 1, 7, 58), velo='False', changement=0),\n",
              " Row(id=1, timestamp=datetime.datetime(2018, 1, 1, 7, 59), velo='False', changement=0),\n",
              " Row(id=1, timestamp=datetime.datetime(2018, 1, 1, 8, 0), velo='False', changement=0),\n",
              " Row(id=1, timestamp=datetime.datetime(2018, 1, 1, 8, 1), velo='False', changement=0),\n",
              " Row(id=1, timestamp=datetime.datetime(2018, 1, 1, 8, 2), velo='False', changement=0),\n",
              " Row(id=1, timestamp=datetime.datetime(2018, 1, 1, 8, 3), velo='False', changement=0),\n",
              " Row(id=1, timestamp=datetime.datetime(2018, 1, 1, 8, 4), velo='False', changement=0),\n",
              " Row(id=1, timestamp=datetime.datetime(2018, 1, 1, 8, 5), velo='False', changement=0),\n",
              " Row(id=1, timestamp=datetime.datetime(2018, 1, 1, 8, 6), velo='False', changement=0),\n",
              " Row(id=1, timestamp=datetime.datetime(2018, 1, 1, 8, 7), velo='False', changement=0),\n",
              " Row(id=1, timestamp=datetime.datetime(2018, 1, 1, 8, 8), velo='False', changement=0),\n",
              " Row(id=1, timestamp=datetime.datetime(2018, 1, 1, 8, 9), velo='False', changement=0),\n",
              " Row(id=1, timestamp=datetime.datetime(2018, 1, 1, 8, 10), velo='False', changement=0),\n",
              " Row(id=1, timestamp=datetime.datetime(2018, 1, 1, 8, 11), velo='False', changement=0),\n",
              " Row(id=1, timestamp=datetime.datetime(2018, 1, 1, 8, 12), velo='False', changement=0),\n",
              " Row(id=1, timestamp=datetime.datetime(2018, 1, 1, 8, 13), velo='False', changement=0),\n",
              " Row(id=1, timestamp=datetime.datetime(2018, 1, 1, 8, 14), velo='False', changement=0),\n",
              " Row(id=1, timestamp=datetime.datetime(2018, 1, 1, 8, 15), velo='False', changement=0),\n",
              " Row(id=1, timestamp=datetime.datetime(2018, 1, 1, 8, 16), velo='False', changement=0),\n",
              " Row(id=1, timestamp=datetime.datetime(2018, 1, 1, 8, 17), velo='False', changement=0),\n",
              " Row(id=1, timestamp=datetime.datetime(2018, 1, 1, 8, 18), velo='False', changement=0),\n",
              " Row(id=1, timestamp=datetime.datetime(2018, 1, 1, 8, 19), velo='False', changement=0),\n",
              " Row(id=1, timestamp=datetime.datetime(2018, 1, 1, 8, 20), velo='False', changement=0),\n",
              " Row(id=1, timestamp=datetime.datetime(2018, 1, 1, 8, 21), velo='False', changement=0),\n",
              " Row(id=1, timestamp=datetime.datetime(2018, 1, 1, 8, 22), velo='False', changement=0),\n",
              " Row(id=1, timestamp=datetime.datetime(2018, 1, 1, 8, 23), velo='False', changement=0),\n",
              " Row(id=1, timestamp=datetime.datetime(2018, 1, 1, 8, 24), velo='False', changement=0),\n",
              " Row(id=1, timestamp=datetime.datetime(2018, 1, 1, 8, 25), velo='False', changement=0),\n",
              " Row(id=1, timestamp=datetime.datetime(2018, 1, 1, 8, 26), velo='False', changement=0),\n",
              " Row(id=1, timestamp=datetime.datetime(2018, 1, 1, 8, 27), velo='False', changement=0),\n",
              " Row(id=1, timestamp=datetime.datetime(2018, 1, 1, 8, 28), velo='False', changement=0),\n",
              " Row(id=1, timestamp=datetime.datetime(2018, 1, 1, 8, 29), velo='False', changement=0),\n",
              " Row(id=1, timestamp=datetime.datetime(2018, 1, 1, 8, 30), velo='False', changement=0),\n",
              " Row(id=1, timestamp=datetime.datetime(2018, 1, 1, 8, 31), velo='False', changement=0),\n",
              " Row(id=1, timestamp=datetime.datetime(2018, 1, 1, 8, 32), velo='False', changement=0),\n",
              " Row(id=1, timestamp=datetime.datetime(2018, 1, 1, 8, 33), velo='False', changement=0),\n",
              " Row(id=1, timestamp=datetime.datetime(2018, 1, 1, 8, 34), velo='False', changement=0),\n",
              " Row(id=1, timestamp=datetime.datetime(2018, 1, 1, 8, 35), velo='False', changement=0),\n",
              " Row(id=1, timestamp=datetime.datetime(2018, 1, 1, 8, 36), velo='False', changement=0),\n",
              " Row(id=1, timestamp=datetime.datetime(2018, 1, 1, 8, 37), velo='False', changement=0),\n",
              " Row(id=1, timestamp=datetime.datetime(2018, 1, 1, 8, 38), velo='False', changement=0),\n",
              " Row(id=1, timestamp=datetime.datetime(2018, 1, 1, 8, 39), velo='False', changement=0),\n",
              " Row(id=1, timestamp=datetime.datetime(2018, 1, 1, 8, 40), velo='False', changement=0),\n",
              " Row(id=1, timestamp=datetime.datetime(2018, 1, 1, 8, 41), velo='False', changement=0),\n",
              " Row(id=1, timestamp=datetime.datetime(2018, 1, 1, 8, 42), velo='False', changement=0),\n",
              " Row(id=1, timestamp=datetime.datetime(2018, 1, 1, 8, 43), velo='False', changement=0),\n",
              " Row(id=1, timestamp=datetime.datetime(2018, 1, 1, 8, 44), velo='False', changement=0),\n",
              " Row(id=1, timestamp=datetime.datetime(2018, 1, 1, 8, 45), velo='False', changement=0),\n",
              " Row(id=1, timestamp=datetime.datetime(2018, 1, 1, 8, 46), velo='False', changement=0),\n",
              " Row(id=1, timestamp=datetime.datetime(2018, 1, 1, 8, 47), velo='False', changement=0),\n",
              " Row(id=1, timestamp=datetime.datetime(2018, 1, 1, 8, 48), velo='False', changement=0),\n",
              " Row(id=1, timestamp=datetime.datetime(2018, 1, 1, 8, 49), velo='False', changement=0),\n",
              " Row(id=1, timestamp=datetime.datetime(2018, 1, 1, 8, 50), velo='False', changement=0),\n",
              " Row(id=1, timestamp=datetime.datetime(2018, 1, 1, 8, 51), velo='False', changement=0),\n",
              " Row(id=1, timestamp=datetime.datetime(2018, 1, 1, 8, 52), velo='False', changement=0),\n",
              " Row(id=1, timestamp=datetime.datetime(2018, 1, 1, 8, 53), velo='False', changement=0),\n",
              " Row(id=1, timestamp=datetime.datetime(2018, 1, 1, 8, 54), velo='False', changement=0),\n",
              " Row(id=1, timestamp=datetime.datetime(2018, 1, 1, 8, 55), velo='False', changement=0),\n",
              " Row(id=1, timestamp=datetime.datetime(2018, 1, 1, 8, 56), velo='False', changement=0),\n",
              " Row(id=1, timestamp=datetime.datetime(2018, 1, 1, 8, 57), velo='False', changement=0),\n",
              " Row(id=1, timestamp=datetime.datetime(2018, 1, 1, 8, 58), velo='False', changement=0),\n",
              " Row(id=1, timestamp=datetime.datetime(2018, 1, 1, 8, 59), velo='False', changement=0),\n",
              " Row(id=1, timestamp=datetime.datetime(2018, 1, 1, 9, 0), velo='False', changement=0),\n",
              " Row(id=1, timestamp=datetime.datetime(2018, 1, 1, 9, 1), velo='False', changement=0),\n",
              " Row(id=1, timestamp=datetime.datetime(2018, 1, 1, 9, 2), velo='False', changement=0),\n",
              " Row(id=1, timestamp=datetime.datetime(2018, 1, 1, 9, 3), velo='False', changement=0),\n",
              " Row(id=1, timestamp=datetime.datetime(2018, 1, 1, 9, 4), velo='False', changement=0),\n",
              " Row(id=1, timestamp=datetime.datetime(2018, 1, 1, 9, 5), velo='False', changement=0),\n",
              " Row(id=1, timestamp=datetime.datetime(2018, 1, 1, 9, 6), velo='False', changement=0),\n",
              " Row(id=1, timestamp=datetime.datetime(2018, 1, 1, 9, 7), velo='False', changement=0),\n",
              " Row(id=1, timestamp=datetime.datetime(2018, 1, 1, 9, 8), velo='False', changement=0),\n",
              " Row(id=1, timestamp=datetime.datetime(2018, 1, 1, 9, 9), velo='False', changement=0),\n",
              " Row(id=1, timestamp=datetime.datetime(2018, 1, 1, 9, 10), velo='False', changement=0),\n",
              " Row(id=1, timestamp=datetime.datetime(2018, 1, 1, 9, 11), velo='False', changement=0),\n",
              " Row(id=1, timestamp=datetime.datetime(2018, 1, 1, 9, 12), velo='False', changement=0),\n",
              " Row(id=1, timestamp=datetime.datetime(2018, 1, 1, 9, 13), velo='False', changement=0),\n",
              " Row(id=1, timestamp=datetime.datetime(2018, 1, 1, 9, 14), velo='False', changement=0),\n",
              " Row(id=1, timestamp=datetime.datetime(2018, 1, 1, 9, 15), velo='False', changement=0),\n",
              " Row(id=1, timestamp=datetime.datetime(2018, 1, 1, 9, 16), velo='False', changement=0),\n",
              " Row(id=1, timestamp=datetime.datetime(2018, 1, 1, 9, 17), velo='False', changement=0),\n",
              " Row(id=1, timestamp=datetime.datetime(2018, 1, 1, 9, 18), velo='False', changement=0),\n",
              " Row(id=1, timestamp=datetime.datetime(2018, 1, 1, 9, 19), velo='False', changement=0),\n",
              " Row(id=1, timestamp=datetime.datetime(2018, 1, 1, 9, 20), velo='False', changement=0),\n",
              " Row(id=1, timestamp=datetime.datetime(2018, 1, 1, 9, 21), velo='False', changement=0),\n",
              " Row(id=1, timestamp=datetime.datetime(2018, 1, 1, 9, 22), velo='False', changement=0),\n",
              " Row(id=1, timestamp=datetime.datetime(2018, 1, 1, 9, 23), velo='False', changement=0),\n",
              " Row(id=1, timestamp=datetime.datetime(2018, 1, 1, 9, 24), velo='False', changement=0),\n",
              " Row(id=1, timestamp=datetime.datetime(2018, 1, 1, 9, 25), velo='False', changement=0),\n",
              " Row(id=1, timestamp=datetime.datetime(2018, 1, 1, 9, 26), velo='False', changement=0),\n",
              " Row(id=1, timestamp=datetime.datetime(2018, 1, 1, 9, 27), velo='False', changement=0),\n",
              " Row(id=1, timestamp=datetime.datetime(2018, 1, 1, 9, 28), velo='False', changement=0),\n",
              " Row(id=1, timestamp=datetime.datetime(2018, 1, 1, 9, 29), velo='False', changement=0),\n",
              " Row(id=1, timestamp=datetime.datetime(2018, 1, 1, 9, 30), velo='False', changement=0),\n",
              " Row(id=1, timestamp=datetime.datetime(2018, 1, 1, 9, 31), velo='False', changement=0),\n",
              " Row(id=1, timestamp=datetime.datetime(2018, 1, 1, 9, 32), velo='False', changement=0),\n",
              " Row(id=1, timestamp=datetime.datetime(2018, 1, 1, 9, 33), velo='False', changement=0),\n",
              " Row(id=1, timestamp=datetime.datetime(2018, 1, 1, 9, 34), velo='False', changement=0),\n",
              " Row(id=1, timestamp=datetime.datetime(2018, 1, 1, 9, 35), velo='False', changement=0),\n",
              " Row(id=1, timestamp=datetime.datetime(2018, 1, 1, 9, 36), velo='False', changement=0),\n",
              " Row(id=1, timestamp=datetime.datetime(2018, 1, 1, 9, 37), velo='False', changement=0),\n",
              " Row(id=1, timestamp=datetime.datetime(2018, 1, 1, 9, 38), velo='False', changement=0),\n",
              " Row(id=1, timestamp=datetime.datetime(2018, 1, 1, 9, 39), velo='False', changement=0),\n",
              " Row(id=1, timestamp=datetime.datetime(2018, 1, 1, 9, 40), velo='False', changement=0),\n",
              " Row(id=1, timestamp=datetime.datetime(2018, 1, 1, 9, 41), velo='False', changement=0),\n",
              " Row(id=1, timestamp=datetime.datetime(2018, 1, 1, 9, 42), velo='False', changement=0),\n",
              " Row(id=1, timestamp=datetime.datetime(2018, 1, 1, 9, 43), velo='False', changement=0),\n",
              " Row(id=1, timestamp=datetime.datetime(2018, 1, 1, 9, 44), velo='False', changement=0),\n",
              " Row(id=1, timestamp=datetime.datetime(2018, 1, 1, 9, 45), velo='False', changement=0),\n",
              " Row(id=1, timestamp=datetime.datetime(2018, 1, 1, 9, 46), velo='False', changement=0),\n",
              " Row(id=1, timestamp=datetime.datetime(2018, 1, 1, 9, 47), velo='False', changement=0),\n",
              " Row(id=1, timestamp=datetime.datetime(2018, 1, 1, 9, 48), velo='False', changement=0),\n",
              " Row(id=1, timestamp=datetime.datetime(2018, 1, 1, 9, 49), velo='False', changement=0),\n",
              " Row(id=1, timestamp=datetime.datetime(2018, 1, 1, 9, 50), velo='False', changement=0),\n",
              " Row(id=1, timestamp=datetime.datetime(2018, 1, 1, 9, 51), velo='False', changement=0),\n",
              " Row(id=1, timestamp=datetime.datetime(2018, 1, 1, 9, 52), velo='False', changement=0),\n",
              " Row(id=1, timestamp=datetime.datetime(2018, 1, 1, 9, 53), velo='False', changement=0),\n",
              " Row(id=1, timestamp=datetime.datetime(2018, 1, 1, 9, 54), velo='False', changement=0),\n",
              " Row(id=1, timestamp=datetime.datetime(2018, 1, 1, 9, 55), velo='False', changement=0),\n",
              " Row(id=1, timestamp=datetime.datetime(2018, 1, 1, 9, 56), velo='False', changement=0),\n",
              " Row(id=1, timestamp=datetime.datetime(2018, 1, 1, 9, 57), velo='False', changement=0),\n",
              " Row(id=1, timestamp=datetime.datetime(2018, 1, 1, 9, 58), velo='False', changement=0),\n",
              " Row(id=1, timestamp=datetime.datetime(2018, 1, 1, 9, 59), velo='False', changement=0),\n",
              " Row(id=1, timestamp=datetime.datetime(2018, 1, 1, 10, 0), velo='False', changement=0),\n",
              " Row(id=1, timestamp=datetime.datetime(2018, 1, 1, 10, 1), velo='False', changement=0),\n",
              " Row(id=1, timestamp=datetime.datetime(2018, 1, 1, 10, 2), velo='False', changement=0),\n",
              " Row(id=1, timestamp=datetime.datetime(2018, 1, 1, 10, 3), velo='False', changement=0),\n",
              " Row(id=1, timestamp=datetime.datetime(2018, 1, 1, 10, 4), velo='False', changement=0),\n",
              " Row(id=1, timestamp=datetime.datetime(2018, 1, 1, 10, 5), velo='False', changement=0),\n",
              " Row(id=1, timestamp=datetime.datetime(2018, 1, 1, 10, 6), velo='False', changement=0),\n",
              " Row(id=1, timestamp=datetime.datetime(2018, 1, 1, 10, 7), velo='False', changement=0),\n",
              " Row(id=1, timestamp=datetime.datetime(2018, 1, 1, 10, 8), velo='False', changement=0),\n",
              " Row(id=1, timestamp=datetime.datetime(2018, 1, 1, 10, 9), velo='False', changement=0),\n",
              " Row(id=1, timestamp=datetime.datetime(2018, 1, 1, 10, 10), velo='False', changement=0),\n",
              " Row(id=1, timestamp=datetime.datetime(2018, 1, 1, 10, 11), velo='False', changement=0),\n",
              " Row(id=1, timestamp=datetime.datetime(2018, 1, 1, 10, 12), velo='False', changement=0),\n",
              " Row(id=1, timestamp=datetime.datetime(2018, 1, 1, 10, 13), velo='False', changement=0),\n",
              " Row(id=1, timestamp=datetime.datetime(2018, 1, 1, 10, 14), velo='False', changement=0),\n",
              " Row(id=1, timestamp=datetime.datetime(2018, 1, 1, 10, 15), velo='False', changement=0),\n",
              " Row(id=1, timestamp=datetime.datetime(2018, 1, 1, 10, 16), velo='False', changement=0),\n",
              " Row(id=1, timestamp=datetime.datetime(2018, 1, 1, 10, 17), velo='False', changement=0),\n",
              " Row(id=1, timestamp=datetime.datetime(2018, 1, 1, 10, 18), velo='False', changement=0),\n",
              " Row(id=1, timestamp=datetime.datetime(2018, 1, 1, 10, 19), velo='False', changement=0),\n",
              " Row(id=1, timestamp=datetime.datetime(2018, 1, 1, 10, 20), velo='False', changement=0),\n",
              " Row(id=1, timestamp=datetime.datetime(2018, 1, 1, 10, 21), velo='False', changement=0),\n",
              " Row(id=1, timestamp=datetime.datetime(2018, 1, 1, 10, 22), velo='False', changement=0),\n",
              " Row(id=1, timestamp=datetime.datetime(2018, 1, 1, 10, 23), velo='False', changement=0),\n",
              " Row(id=1, timestamp=datetime.datetime(2018, 1, 1, 10, 24), velo='False', changement=0),\n",
              " Row(id=1, timestamp=datetime.datetime(2018, 1, 1, 10, 25), velo='False', changement=0),\n",
              " Row(id=1, timestamp=datetime.datetime(2018, 1, 1, 10, 26), velo='False', changement=0),\n",
              " Row(id=1, timestamp=datetime.datetime(2018, 1, 1, 10, 27), velo='False', changement=0),\n",
              " Row(id=1, timestamp=datetime.datetime(2018, 1, 1, 10, 28), velo='False', changement=0),\n",
              " Row(id=1, timestamp=datetime.datetime(2018, 1, 1, 10, 29), velo='False', changement=0),\n",
              " Row(id=1, timestamp=datetime.datetime(2018, 1, 1, 10, 30), velo='False', changement=0),\n",
              " Row(id=1, timestamp=datetime.datetime(2018, 1, 1, 10, 31), velo='False', changement=0),\n",
              " Row(id=1, timestamp=datetime.datetime(2018, 1, 1, 10, 32), velo='False', changement=0),\n",
              " Row(id=1, timestamp=datetime.datetime(2018, 1, 1, 10, 33), velo='False', changement=0),\n",
              " Row(id=1, timestamp=datetime.datetime(2018, 1, 1, 10, 34), velo='False', changement=0),\n",
              " Row(id=1, timestamp=datetime.datetime(2018, 1, 1, 10, 35), velo='False', changement=0),\n",
              " Row(id=1, timestamp=datetime.datetime(2018, 1, 1, 10, 36), velo='False', changement=0),\n",
              " Row(id=1, timestamp=datetime.datetime(2018, 1, 1, 10, 37), velo='False', changement=0),\n",
              " Row(id=1, timestamp=datetime.datetime(2018, 1, 1, 10, 38), velo='False', changement=0),\n",
              " Row(id=1, timestamp=datetime.datetime(2018, 1, 1, 10, 39), velo='False', changement=0),\n",
              " Row(id=1, timestamp=datetime.datetime(2018, 1, 1, 10, 40), velo='False', changement=0),\n",
              " Row(id=1, timestamp=datetime.datetime(2018, 1, 1, 10, 41), velo='False', changement=0),\n",
              " Row(id=1, timestamp=datetime.datetime(2018, 1, 1, 10, 42), velo='False', changement=0),\n",
              " Row(id=1, timestamp=datetime.datetime(2018, 1, 1, 10, 43), velo='False', changement=0),\n",
              " Row(id=1, timestamp=datetime.datetime(2018, 1, 1, 10, 44), velo='False', changement=0),\n",
              " Row(id=1, timestamp=datetime.datetime(2018, 1, 1, 10, 45), velo='False', changement=0),\n",
              " Row(id=1, timestamp=datetime.datetime(2018, 1, 1, 10, 46), velo='False', changement=0),\n",
              " Row(id=1, timestamp=datetime.datetime(2018, 1, 1, 10, 47), velo='False', changement=0),\n",
              " Row(id=1, timestamp=datetime.datetime(2018, 1, 1, 10, 48), velo='False', changement=0),\n",
              " Row(id=1, timestamp=datetime.datetime(2018, 1, 1, 10, 49), velo='False', changement=0),\n",
              " Row(id=1, timestamp=datetime.datetime(2018, 1, 1, 10, 50), velo='False', changement=0),\n",
              " Row(id=1, timestamp=datetime.datetime(2018, 1, 1, 10, 51), velo='False', changement=0),\n",
              " Row(id=1, timestamp=datetime.datetime(2018, 1, 1, 10, 52), velo='False', changement=0),\n",
              " Row(id=1, timestamp=datetime.datetime(2018, 1, 1, 10, 53), velo='False', changement=0),\n",
              " Row(id=1, timestamp=datetime.datetime(2018, 1, 1, 10, 54), velo='False', changement=0),\n",
              " Row(id=1, timestamp=datetime.datetime(2018, 1, 1, 10, 55), velo='False', changement=0),\n",
              " Row(id=1, timestamp=datetime.datetime(2018, 1, 1, 10, 56), velo='False', changement=0),\n",
              " Row(id=1, timestamp=datetime.datetime(2018, 1, 1, 10, 57), velo='False', changement=0),\n",
              " Row(id=1, timestamp=datetime.datetime(2018, 1, 1, 10, 58), velo='False', changement=0),\n",
              " Row(id=1, timestamp=datetime.datetime(2018, 1, 1, 10, 59), velo='False', changement=0),\n",
              " Row(id=1, timestamp=datetime.datetime(2018, 1, 1, 11, 0), velo='False', changement=0),\n",
              " Row(id=1, timestamp=datetime.datetime(2018, 1, 1, 11, 1), velo='False', changement=0),\n",
              " Row(id=1, timestamp=datetime.datetime(2018, 1, 1, 11, 2), velo='False', changement=0),\n",
              " Row(id=1, timestamp=datetime.datetime(2018, 1, 1, 11, 3), velo='False', changement=0),\n",
              " Row(id=1, timestamp=datetime.datetime(2018, 1, 1, 11, 4), velo='False', changement=0),\n",
              " Row(id=1, timestamp=datetime.datetime(2018, 1, 1, 11, 5), velo='False', changement=0),\n",
              " Row(id=1, timestamp=datetime.datetime(2018, 1, 1, 11, 6), velo='False', changement=0),\n",
              " Row(id=1, timestamp=datetime.datetime(2018, 1, 1, 11, 7), velo='False', changement=0),\n",
              " Row(id=1, timestamp=datetime.datetime(2018, 1, 1, 11, 8), velo='False', changement=0),\n",
              " Row(id=1, timestamp=datetime.datetime(2018, 1, 1, 11, 9), velo='False', changement=0),\n",
              " Row(id=1, timestamp=datetime.datetime(2018, 1, 1, 11, 10), velo='False', changement=0),\n",
              " Row(id=1, timestamp=datetime.datetime(2018, 1, 1, 11, 11), velo='False', changement=0),\n",
              " Row(id=1, timestamp=datetime.datetime(2018, 1, 1, 11, 12), velo='False', changement=0),\n",
              " Row(id=1, timestamp=datetime.datetime(2018, 1, 1, 11, 13), velo='False', changement=0),\n",
              " Row(id=1, timestamp=datetime.datetime(2018, 1, 1, 11, 14), velo='False', changement=0),\n",
              " Row(id=1, timestamp=datetime.datetime(2018, 1, 1, 11, 15), velo='False', changement=0),\n",
              " Row(id=1, timestamp=datetime.datetime(2018, 1, 1, 11, 16), velo='False', changement=0),\n",
              " Row(id=1, timestamp=datetime.datetime(2018, 1, 1, 11, 17), velo='False', changement=0),\n",
              " Row(id=1, timestamp=datetime.datetime(2018, 1, 1, 11, 18), velo='False', changement=0),\n",
              " Row(id=1, timestamp=datetime.datetime(2018, 1, 1, 11, 19), velo='False', changement=0),\n",
              " Row(id=1, timestamp=datetime.datetime(2018, 1, 1, 11, 20), velo='False', changement=0),\n",
              " Row(id=1, timestamp=datetime.datetime(2018, 1, 1, 11, 21), velo='False', changement=0),\n",
              " Row(id=1, timestamp=datetime.datetime(2018, 1, 1, 11, 22), velo='False', changement=0),\n",
              " Row(id=1, timestamp=datetime.datetime(2018, 1, 1, 11, 23), velo='False', changement=0),\n",
              " Row(id=1, timestamp=datetime.datetime(2018, 1, 1, 11, 24), velo='False', changement=0),\n",
              " Row(id=1, timestamp=datetime.datetime(2018, 1, 1, 11, 25), velo='False', changement=0),\n",
              " Row(id=1, timestamp=datetime.datetime(2018, 1, 1, 11, 26), velo='False', changement=0),\n",
              " Row(id=1, timestamp=datetime.datetime(2018, 1, 1, 11, 27), velo='False', changement=0),\n",
              " Row(id=1, timestamp=datetime.datetime(2018, 1, 1, 11, 28), velo='False', changement=0),\n",
              " Row(id=1, timestamp=datetime.datetime(2018, 1, 1, 11, 29), velo='False', changement=0),\n",
              " Row(id=1, timestamp=datetime.datetime(2018, 1, 1, 11, 30), velo='False', changement=0),\n",
              " Row(id=1, timestamp=datetime.datetime(2018, 1, 1, 11, 31), velo='False', changement=0),\n",
              " Row(id=1, timestamp=datetime.datetime(2018, 1, 1, 11, 32), velo='False', changement=0),\n",
              " Row(id=1, timestamp=datetime.datetime(2018, 1, 1, 11, 33), velo='False', changement=0),\n",
              " Row(id=1, timestamp=datetime.datetime(2018, 1, 1, 11, 34), velo='False', changement=0),\n",
              " Row(id=1, timestamp=datetime.datetime(2018, 1, 1, 11, 35), velo='False', changement=0),\n",
              " Row(id=1, timestamp=datetime.datetime(2018, 1, 1, 11, 36), velo='False', changement=0),\n",
              " Row(id=1, timestamp=datetime.datetime(2018, 1, 1, 11, 37), velo='False', changement=0),\n",
              " Row(id=1, timestamp=datetime.datetime(2018, 1, 1, 11, 38), velo='False', changement=0),\n",
              " Row(id=1, timestamp=datetime.datetime(2018, 1, 1, 11, 39), velo='False', changement=0),\n",
              " Row(id=1, timestamp=datetime.datetime(2018, 1, 1, 11, 40), velo='False', changement=0),\n",
              " Row(id=1, timestamp=datetime.datetime(2018, 1, 1, 11, 41), velo='False', changement=0),\n",
              " Row(id=1, timestamp=datetime.datetime(2018, 1, 1, 11, 42), velo='False', changement=0),\n",
              " Row(id=1, timestamp=datetime.datetime(2018, 1, 1, 11, 43), velo='False', changement=0),\n",
              " Row(id=1, timestamp=datetime.datetime(2018, 1, 1, 11, 44), velo='False', changement=0),\n",
              " Row(id=1, timestamp=datetime.datetime(2018, 1, 1, 11, 45), velo='False', changement=0),\n",
              " Row(id=1, timestamp=datetime.datetime(2018, 1, 1, 11, 46), velo='False', changement=0),\n",
              " Row(id=1, timestamp=datetime.datetime(2018, 1, 1, 11, 47), velo='False', changement=0),\n",
              " Row(id=1, timestamp=datetime.datetime(2018, 1, 1, 11, 48), velo='False', changement=0),\n",
              " Row(id=1, timestamp=datetime.datetime(2018, 1, 1, 11, 49), velo='False', changement=0),\n",
              " Row(id=1, timestamp=datetime.datetime(2018, 1, 1, 11, 50), velo='False', changement=0),\n",
              " Row(id=1, timestamp=datetime.datetime(2018, 1, 1, 11, 51), velo='False', changement=0),\n",
              " Row(id=1, timestamp=datetime.datetime(2018, 1, 1, 11, 52), velo='False', changement=0),\n",
              " Row(id=1, timestamp=datetime.datetime(2018, 1, 1, 11, 53), velo='False', changement=0),\n",
              " Row(id=1, timestamp=datetime.datetime(2018, 1, 1, 11, 54), velo='False', changement=0),\n",
              " Row(id=1, timestamp=datetime.datetime(2018, 1, 1, 11, 55), velo='False', changement=0),\n",
              " Row(id=1, timestamp=datetime.datetime(2018, 1, 1, 11, 56), velo='False', changement=0),\n",
              " Row(id=1, timestamp=datetime.datetime(2018, 1, 1, 11, 57), velo='False', changement=0),\n",
              " Row(id=1, timestamp=datetime.datetime(2018, 1, 1, 11, 58), velo='False', changement=0),\n",
              " Row(id=1, timestamp=datetime.datetime(2018, 1, 1, 11, 59), velo='False', changement=0),\n",
              " Row(id=1, timestamp=datetime.datetime(2018, 1, 1, 12, 0), velo='False', changement=0),\n",
              " Row(id=1, timestamp=datetime.datetime(2018, 1, 1, 12, 1), velo='False', changement=0),\n",
              " Row(id=1, timestamp=datetime.datetime(2018, 1, 1, 12, 2), velo='False', changement=0),\n",
              " Row(id=1, timestamp=datetime.datetime(2018, 1, 1, 12, 3), velo='False', changement=0),\n",
              " Row(id=1, timestamp=datetime.datetime(2018, 1, 1, 12, 4), velo='False', changement=0),\n",
              " Row(id=1, timestamp=datetime.datetime(2018, 1, 1, 12, 5), velo='False', changement=0),\n",
              " Row(id=1, timestamp=datetime.datetime(2018, 1, 1, 12, 6), velo='False', changement=0),\n",
              " Row(id=1, timestamp=datetime.datetime(2018, 1, 1, 12, 7), velo='False', changement=0),\n",
              " Row(id=1, timestamp=datetime.datetime(2018, 1, 1, 12, 8), velo='False', changement=0),\n",
              " Row(id=1, timestamp=datetime.datetime(2018, 1, 1, 12, 9), velo='False', changement=0),\n",
              " Row(id=1, timestamp=datetime.datetime(2018, 1, 1, 12, 10), velo='False', changement=0),\n",
              " Row(id=1, timestamp=datetime.datetime(2018, 1, 1, 12, 11), velo='False', changement=0),\n",
              " Row(id=1, timestamp=datetime.datetime(2018, 1, 1, 12, 12), velo='False', changement=0),\n",
              " Row(id=1, timestamp=datetime.datetime(2018, 1, 1, 12, 13), velo='False', changement=0),\n",
              " Row(id=1, timestamp=datetime.datetime(2018, 1, 1, 12, 14), velo='False', changement=0),\n",
              " Row(id=1, timestamp=datetime.datetime(2018, 1, 1, 12, 15), velo='False', changement=0),\n",
              " Row(id=1, timestamp=datetime.datetime(2018, 1, 1, 12, 16), velo='False', changement=0),\n",
              " Row(id=1, timestamp=datetime.datetime(2018, 1, 1, 12, 17), velo='False', changement=0),\n",
              " Row(id=1, timestamp=datetime.datetime(2018, 1, 1, 12, 18), velo='False', changement=0),\n",
              " Row(id=1, timestamp=datetime.datetime(2018, 1, 1, 12, 19), velo='False', changement=0),\n",
              " Row(id=1, timestamp=datetime.datetime(2018, 1, 1, 12, 20), velo='False', changement=0),\n",
              " Row(id=1, timestamp=datetime.datetime(2018, 1, 1, 12, 21), velo='False', changement=0),\n",
              " Row(id=1, timestamp=datetime.datetime(2018, 1, 1, 12, 22), velo='False', changement=0),\n",
              " Row(id=1, timestamp=datetime.datetime(2018, 1, 1, 12, 23), velo='False', changement=0),\n",
              " Row(id=1, timestamp=datetime.datetime(2018, 1, 1, 12, 24), velo='False', changement=0),\n",
              " Row(id=1, timestamp=datetime.datetime(2018, 1, 1, 12, 25), velo='False', changement=0),\n",
              " Row(id=1, timestamp=datetime.datetime(2018, 1, 1, 12, 26), velo='False', changement=0),\n",
              " Row(id=1, timestamp=datetime.datetime(2018, 1, 1, 12, 27), velo='False', changement=0),\n",
              " Row(id=1, timestamp=datetime.datetime(2018, 1, 1, 12, 28), velo='False', changement=0),\n",
              " Row(id=1, timestamp=datetime.datetime(2018, 1, 1, 12, 29), velo='False', changement=0),\n",
              " Row(id=1, timestamp=datetime.datetime(2018, 1, 1, 12, 30), velo='False', changement=0),\n",
              " Row(id=1, timestamp=datetime.datetime(2018, 1, 1, 12, 31), velo='False', changement=0),\n",
              " Row(id=1, timestamp=datetime.datetime(2018, 1, 1, 12, 32), velo='False', changement=0),\n",
              " Row(id=1, timestamp=datetime.datetime(2018, 1, 1, 12, 33), velo='False', changement=0),\n",
              " Row(id=1, timestamp=datetime.datetime(2018, 1, 1, 12, 34), velo='False', changement=0),\n",
              " Row(id=1, timestamp=datetime.datetime(2018, 1, 1, 12, 35), velo='False', changement=0),\n",
              " Row(id=1, timestamp=datetime.datetime(2018, 1, 1, 12, 36), velo='False', changement=0),\n",
              " Row(id=1, timestamp=datetime.datetime(2018, 1, 1, 12, 37), velo='False', changement=0),\n",
              " Row(id=1, timestamp=datetime.datetime(2018, 1, 1, 12, 38), velo='False', changement=0),\n",
              " Row(id=1, timestamp=datetime.datetime(2018, 1, 1, 12, 39), velo='False', changement=0),\n",
              " Row(id=1, timestamp=datetime.datetime(2018, 1, 1, 12, 40), velo='False', changement=0),\n",
              " Row(id=1, timestamp=datetime.datetime(2018, 1, 1, 12, 41), velo='False', changement=0),\n",
              " Row(id=1, timestamp=datetime.datetime(2018, 1, 1, 12, 42), velo='False', changement=0),\n",
              " Row(id=1, timestamp=datetime.datetime(2018, 1, 1, 12, 43), velo='False', changement=0),\n",
              " Row(id=1, timestamp=datetime.datetime(2018, 1, 1, 12, 44), velo='False', changement=0),\n",
              " Row(id=1, timestamp=datetime.datetime(2018, 1, 1, 12, 45), velo='False', changement=0),\n",
              " Row(id=1, timestamp=datetime.datetime(2018, 1, 1, 12, 46), velo='False', changement=0),\n",
              " Row(id=1, timestamp=datetime.datetime(2018, 1, 1, 12, 47), velo='False', changement=0),\n",
              " Row(id=1, timestamp=datetime.datetime(2018, 1, 1, 12, 48), velo='False', changement=0),\n",
              " Row(id=1, timestamp=datetime.datetime(2018, 1, 1, 12, 49), velo='False', changement=0),\n",
              " Row(id=1, timestamp=datetime.datetime(2018, 1, 1, 12, 50), velo='False', changement=0),\n",
              " Row(id=1, timestamp=datetime.datetime(2018, 1, 1, 12, 51), velo='False', changement=0),\n",
              " Row(id=1, timestamp=datetime.datetime(2018, 1, 1, 12, 52), velo='False', changement=0),\n",
              " Row(id=1, timestamp=datetime.datetime(2018, 1, 1, 12, 53), velo='False', changement=0),\n",
              " Row(id=1, timestamp=datetime.datetime(2018, 1, 1, 12, 54), velo='False', changement=0),\n",
              " Row(id=1, timestamp=datetime.datetime(2018, 1, 1, 12, 55), velo='False', changement=0),\n",
              " Row(id=1, timestamp=datetime.datetime(2018, 1, 1, 12, 56), velo='False', changement=0),\n",
              " Row(id=1, timestamp=datetime.datetime(2018, 1, 1, 12, 57), velo='False', changement=0),\n",
              " Row(id=1, timestamp=datetime.datetime(2018, 1, 1, 12, 58), velo='False', changement=0),\n",
              " Row(id=1, timestamp=datetime.datetime(2018, 1, 1, 12, 59), velo='False', changement=0),\n",
              " Row(id=1, timestamp=datetime.datetime(2018, 1, 1, 13, 0), velo='False', changement=0),\n",
              " Row(id=1, timestamp=datetime.datetime(2018, 1, 1, 13, 1), velo='False', changement=0),\n",
              " Row(id=1, timestamp=datetime.datetime(2018, 1, 1, 13, 2), velo='False', changement=0),\n",
              " Row(id=1, timestamp=datetime.datetime(2018, 1, 1, 13, 3), velo='False', changement=0),\n",
              " Row(id=1, timestamp=datetime.datetime(2018, 1, 1, 13, 4), velo='False', changement=0),\n",
              " Row(id=1, timestamp=datetime.datetime(2018, 1, 1, 13, 5), velo='False', changement=0),\n",
              " Row(id=1, timestamp=datetime.datetime(2018, 1, 1, 13, 6), velo='False', changement=0),\n",
              " Row(id=1, timestamp=datetime.datetime(2018, 1, 1, 13, 7), velo='False', changement=0),\n",
              " Row(id=1, timestamp=datetime.datetime(2018, 1, 1, 13, 8), velo='False', changement=0),\n",
              " Row(id=1, timestamp=datetime.datetime(2018, 1, 1, 13, 9), velo='False', changement=0),\n",
              " Row(id=1, timestamp=datetime.datetime(2018, 1, 1, 13, 10), velo='False', changement=0),\n",
              " Row(id=1, timestamp=datetime.datetime(2018, 1, 1, 13, 11), velo='False', changement=0),\n",
              " Row(id=1, timestamp=datetime.datetime(2018, 1, 1, 13, 12), velo='False', changement=0),\n",
              " Row(id=1, timestamp=datetime.datetime(2018, 1, 1, 13, 13), velo='False', changement=0),\n",
              " Row(id=1, timestamp=datetime.datetime(2018, 1, 1, 13, 14), velo='False', changement=0),\n",
              " Row(id=1, timestamp=datetime.datetime(2018, 1, 1, 13, 15), velo='False', changement=0),\n",
              " Row(id=1, timestamp=datetime.datetime(2018, 1, 1, 13, 16), velo='False', changement=0),\n",
              " Row(id=1, timestamp=datetime.datetime(2018, 1, 1, 13, 17), velo='False', changement=0),\n",
              " Row(id=1, timestamp=datetime.datetime(2018, 1, 1, 13, 18), velo='False', changement=0),\n",
              " Row(id=1, timestamp=datetime.datetime(2018, 1, 1, 13, 19), velo='False', changement=0),\n",
              " Row(id=1, timestamp=datetime.datetime(2018, 1, 1, 13, 20), velo='False', changement=0),\n",
              " Row(id=1, timestamp=datetime.datetime(2018, 1, 1, 13, 21), velo='False', changement=0),\n",
              " Row(id=1, timestamp=datetime.datetime(2018, 1, 1, 13, 22), velo='False', changement=0),\n",
              " Row(id=1, timestamp=datetime.datetime(2018, 1, 1, 13, 23), velo='False', changement=0),\n",
              " Row(id=1, timestamp=datetime.datetime(2018, 1, 1, 13, 24), velo='False', changement=0),\n",
              " Row(id=1, timestamp=datetime.datetime(2018, 1, 1, 13, 25), velo='False', changement=0),\n",
              " Row(id=1, timestamp=datetime.datetime(2018, 1, 1, 13, 26), velo='False', changement=0),\n",
              " Row(id=1, timestamp=datetime.datetime(2018, 1, 1, 13, 27), velo='False', changement=0),\n",
              " Row(id=1, timestamp=datetime.datetime(2018, 1, 1, 13, 28), velo='False', changement=0),\n",
              " Row(id=1, timestamp=datetime.datetime(2018, 1, 1, 13, 29), velo='False', changement=0),\n",
              " Row(id=1, timestamp=datetime.datetime(2018, 1, 1, 13, 30), velo='False', changement=0),\n",
              " Row(id=1, timestamp=datetime.datetime(2018, 1, 1, 13, 31), velo='False', changement=0),\n",
              " Row(id=1, timestamp=datetime.datetime(2018, 1, 1, 13, 32), velo='False', changement=0),\n",
              " Row(id=1, timestamp=datetime.datetime(2018, 1, 1, 13, 33), velo='False', changement=0),\n",
              " Row(id=1, timestamp=datetime.datetime(2018, 1, 1, 13, 34), velo='False', changement=0),\n",
              " Row(id=1, timestamp=datetime.datetime(2018, 1, 1, 13, 35), velo='False', changement=0),\n",
              " Row(id=1, timestamp=datetime.datetime(2018, 1, 1, 13, 36), velo='False', changement=0),\n",
              " Row(id=1, timestamp=datetime.datetime(2018, 1, 1, 13, 37), velo='False', changement=0),\n",
              " Row(id=1, timestamp=datetime.datetime(2018, 1, 1, 13, 38), velo='False', changement=0),\n",
              " Row(id=1, timestamp=datetime.datetime(2018, 1, 1, 13, 39), velo='False', changement=0),\n",
              " Row(id=1, timestamp=datetime.datetime(2018, 1, 1, 13, 40), velo='False', changement=0),\n",
              " Row(id=1, timestamp=datetime.datetime(2018, 1, 1, 13, 41), velo='False', changement=0),\n",
              " Row(id=1, timestamp=datetime.datetime(2018, 1, 1, 13, 42), velo='False', changement=0),\n",
              " Row(id=1, timestamp=datetime.datetime(2018, 1, 1, 13, 43), velo='False', changement=0),\n",
              " Row(id=1, timestamp=datetime.datetime(2018, 1, 1, 13, 44), velo='False', changement=0),\n",
              " Row(id=1, timestamp=datetime.datetime(2018, 1, 1, 13, 45), velo='False', changement=0),\n",
              " Row(id=1, timestamp=datetime.datetime(2018, 1, 1, 13, 46), velo='False', changement=0),\n",
              " Row(id=1, timestamp=datetime.datetime(2018, 1, 1, 13, 47), velo='False', changement=0),\n",
              " Row(id=1, timestamp=datetime.datetime(2018, 1, 1, 13, 48), velo='False', changement=0),\n",
              " Row(id=1, timestamp=datetime.datetime(2018, 1, 1, 13, 49), velo='False', changement=0),\n",
              " Row(id=1, timestamp=datetime.datetime(2018, 1, 1, 13, 50), velo='False', changement=0),\n",
              " Row(id=1, timestamp=datetime.datetime(2018, 1, 1, 13, 51), velo='False', changement=0),\n",
              " Row(id=1, timestamp=datetime.datetime(2018, 1, 1, 13, 52), velo='False', changement=0),\n",
              " Row(id=1, timestamp=datetime.datetime(2018, 1, 1, 13, 53), velo='False', changement=0),\n",
              " Row(id=1, timestamp=datetime.datetime(2018, 1, 1, 13, 54), velo='False', changement=0),\n",
              " Row(id=1, timestamp=datetime.datetime(2018, 1, 1, 13, 55), velo='False', changement=0),\n",
              " Row(id=1, timestamp=datetime.datetime(2018, 1, 1, 13, 56), velo='False', changement=0),\n",
              " Row(id=1, timestamp=datetime.datetime(2018, 1, 1, 13, 57), velo='False', changement=0),\n",
              " Row(id=1, timestamp=datetime.datetime(2018, 1, 1, 13, 58), velo='False', changement=0),\n",
              " Row(id=1, timestamp=datetime.datetime(2018, 1, 1, 13, 59), velo='False', changement=0),\n",
              " Row(id=1, timestamp=datetime.datetime(2018, 1, 1, 14, 0), velo='False', changement=0),\n",
              " Row(id=1, timestamp=datetime.datetime(2018, 1, 1, 14, 1), velo='False', changement=0),\n",
              " Row(id=1, timestamp=datetime.datetime(2018, 1, 1, 14, 2), velo='False', changement=0),\n",
              " Row(id=1, timestamp=datetime.datetime(2018, 1, 1, 14, 3), velo='False', changement=0),\n",
              " Row(id=1, timestamp=datetime.datetime(2018, 1, 1, 14, 4), velo='False', changement=0),\n",
              " Row(id=1, timestamp=datetime.datetime(2018, 1, 1, 14, 5), velo='False', changement=0),\n",
              " Row(id=1, timestamp=datetime.datetime(2018, 1, 1, 14, 6), velo='False', changement=0),\n",
              " Row(id=1, timestamp=datetime.datetime(2018, 1, 1, 14, 7), velo='False', changement=0),\n",
              " Row(id=1, timestamp=datetime.datetime(2018, 1, 1, 14, 8), velo='False', changement=0),\n",
              " Row(id=1, timestamp=datetime.datetime(2018, 1, 1, 14, 9), velo='False', changement=0),\n",
              " Row(id=1, timestamp=datetime.datetime(2018, 1, 1, 14, 10), velo='False', changement=0),\n",
              " Row(id=1, timestamp=datetime.datetime(2018, 1, 1, 14, 11), velo='False', changement=0),\n",
              " Row(id=1, timestamp=datetime.datetime(2018, 1, 1, 14, 12), velo='False', changement=0),\n",
              " Row(id=1, timestamp=datetime.datetime(2018, 1, 1, 14, 13), velo='False', changement=0),\n",
              " Row(id=1, timestamp=datetime.datetime(2018, 1, 1, 14, 14), velo='False', changement=0),\n",
              " Row(id=1, timestamp=datetime.datetime(2018, 1, 1, 14, 15), velo='False', changement=0),\n",
              " Row(id=1, timestamp=datetime.datetime(2018, 1, 1, 14, 16), velo='False', changement=0),\n",
              " Row(id=1, timestamp=datetime.datetime(2018, 1, 1, 14, 17), velo='False', changement=0),\n",
              " Row(id=1, timestamp=datetime.datetime(2018, 1, 1, 14, 18), velo='False', changement=0),\n",
              " Row(id=1, timestamp=datetime.datetime(2018, 1, 1, 14, 19), velo='False', changement=0),\n",
              " Row(id=1, timestamp=datetime.datetime(2018, 1, 1, 14, 20), velo='False', changement=0),\n",
              " Row(id=1, timestamp=datetime.datetime(2018, 1, 1, 14, 21), velo='False', changement=0),\n",
              " Row(id=1, timestamp=datetime.datetime(2018, 1, 1, 14, 22), velo='False', changement=0),\n",
              " Row(id=1, timestamp=datetime.datetime(2018, 1, 1, 14, 23), velo='False', changement=0),\n",
              " Row(id=1, timestamp=datetime.datetime(2018, 1, 1, 14, 24), velo='False', changement=0),\n",
              " Row(id=1, timestamp=datetime.datetime(2018, 1, 1, 14, 25), velo='False', changement=0),\n",
              " Row(id=1, timestamp=datetime.datetime(2018, 1, 1, 14, 26), velo='False', changement=0),\n",
              " Row(id=1, timestamp=datetime.datetime(2018, 1, 1, 14, 27), velo='False', changement=0),\n",
              " Row(id=1, timestamp=datetime.datetime(2018, 1, 1, 14, 28), velo='False', changement=0),\n",
              " Row(id=1, timestamp=datetime.datetime(2018, 1, 1, 14, 29), velo='False', changement=0),\n",
              " Row(id=1, timestamp=datetime.datetime(2018, 1, 1, 14, 30), velo='False', changement=0),\n",
              " Row(id=1, timestamp=datetime.datetime(2018, 1, 1, 14, 31), velo='False', changement=0),\n",
              " Row(id=1, timestamp=datetime.datetime(2018, 1, 1, 14, 32), velo='False', changement=0),\n",
              " Row(id=1, timestamp=datetime.datetime(2018, 1, 1, 14, 33), velo='False', changement=0),\n",
              " Row(id=1, timestamp=datetime.datetime(2018, 1, 1, 14, 34), velo='False', changement=0),\n",
              " Row(id=1, timestamp=datetime.datetime(2018, 1, 1, 14, 35), velo='False', changement=0),\n",
              " Row(id=1, timestamp=datetime.datetime(2018, 1, 1, 14, 36), velo='False', changement=0),\n",
              " Row(id=1, timestamp=datetime.datetime(2018, 1, 1, 14, 37), velo='False', changement=0),\n",
              " Row(id=1, timestamp=datetime.datetime(2018, 1, 1, 14, 38), velo='False', changement=0),\n",
              " Row(id=1, timestamp=datetime.datetime(2018, 1, 1, 14, 39), velo='False', changement=0),\n",
              " Row(id=1, timestamp=datetime.datetime(2018, 1, 1, 14, 40), velo='False', changement=0),\n",
              " Row(id=1, timestamp=datetime.datetime(2018, 1, 1, 14, 41), velo='False', changement=0),\n",
              " Row(id=1, timestamp=datetime.datetime(2018, 1, 1, 14, 42), velo='False', changement=0),\n",
              " Row(id=1, timestamp=datetime.datetime(2018, 1, 1, 14, 43), velo='False', changement=0),\n",
              " Row(id=1, timestamp=datetime.datetime(2018, 1, 1, 14, 44), velo='False', changement=0),\n",
              " Row(id=1, timestamp=datetime.datetime(2018, 1, 1, 14, 45), velo='False', changement=0),\n",
              " Row(id=1, timestamp=datetime.datetime(2018, 1, 1, 14, 46), velo='False', changement=0),\n",
              " Row(id=1, timestamp=datetime.datetime(2018, 1, 1, 14, 47), velo='False', changement=0),\n",
              " Row(id=1, timestamp=datetime.datetime(2018, 1, 1, 14, 48), velo='False', changement=0),\n",
              " Row(id=1, timestamp=datetime.datetime(2018, 1, 1, 14, 49), velo='False', changement=0),\n",
              " Row(id=1, timestamp=datetime.datetime(2018, 1, 1, 14, 50), velo='False', changement=0),\n",
              " Row(id=1, timestamp=datetime.datetime(2018, 1, 1, 14, 51), velo='False', changement=0),\n",
              " Row(id=1, timestamp=datetime.datetime(2018, 1, 1, 14, 52), velo='False', changement=0),\n",
              " Row(id=1, timestamp=datetime.datetime(2018, 1, 1, 14, 53), velo='False', changement=0),\n",
              " Row(id=1, timestamp=datetime.datetime(2018, 1, 1, 14, 54), velo='False', changement=0),\n",
              " Row(id=1, timestamp=datetime.datetime(2018, 1, 1, 14, 55), velo='False', changement=0),\n",
              " Row(id=1, timestamp=datetime.datetime(2018, 1, 1, 14, 56), velo='False', changement=0),\n",
              " Row(id=1, timestamp=datetime.datetime(2018, 1, 1, 14, 57), velo='False', changement=0),\n",
              " Row(id=1, timestamp=datetime.datetime(2018, 1, 1, 14, 58), velo='False', changement=0),\n",
              " Row(id=1, timestamp=datetime.datetime(2018, 1, 1, 14, 59), velo='False', changement=0),\n",
              " Row(id=1, timestamp=datetime.datetime(2018, 1, 1, 15, 0), velo='False', changement=0),\n",
              " Row(id=1, timestamp=datetime.datetime(2018, 1, 1, 15, 1), velo='False', changement=0),\n",
              " Row(id=1, timestamp=datetime.datetime(2018, 1, 1, 15, 2), velo='False', changement=0),\n",
              " Row(id=1, timestamp=datetime.datetime(2018, 1, 1, 15, 3), velo='False', changement=0),\n",
              " Row(id=1, timestamp=datetime.datetime(2018, 1, 1, 15, 4), velo='False', changement=0),\n",
              " Row(id=1, timestamp=datetime.datetime(2018, 1, 1, 15, 5), velo='False', changement=0),\n",
              " Row(id=1, timestamp=datetime.datetime(2018, 1, 1, 15, 6), velo='False', changement=0),\n",
              " Row(id=1, timestamp=datetime.datetime(2018, 1, 1, 15, 7), velo='False', changement=0),\n",
              " Row(id=1, timestamp=datetime.datetime(2018, 1, 1, 15, 8), velo='False', changement=0),\n",
              " Row(id=1, timestamp=datetime.datetime(2018, 1, 1, 15, 9), velo='False', changement=0),\n",
              " Row(id=1, timestamp=datetime.datetime(2018, 1, 1, 15, 10), velo='False', changement=0),\n",
              " Row(id=1, timestamp=datetime.datetime(2018, 1, 1, 15, 11), velo='False', changement=0),\n",
              " Row(id=1, timestamp=datetime.datetime(2018, 1, 1, 15, 12), velo='False', changement=0),\n",
              " Row(id=1, timestamp=datetime.datetime(2018, 1, 1, 15, 13), velo='False', changement=0),\n",
              " Row(id=1, timestamp=datetime.datetime(2018, 1, 1, 15, 14), velo='False', changement=0),\n",
              " Row(id=1, timestamp=datetime.datetime(2018, 1, 1, 15, 15), velo='False', changement=0),\n",
              " Row(id=1, timestamp=datetime.datetime(2018, 1, 1, 15, 16), velo='False', changement=0),\n",
              " Row(id=1, timestamp=datetime.datetime(2018, 1, 1, 15, 17), velo='False', changement=0),\n",
              " Row(id=1, timestamp=datetime.datetime(2018, 1, 1, 15, 18), velo='False', changement=0),\n",
              " Row(id=1, timestamp=datetime.datetime(2018, 1, 1, 15, 19), velo='False', changement=0),\n",
              " Row(id=1, timestamp=datetime.datetime(2018, 1, 1, 15, 20), velo='False', changement=0),\n",
              " Row(id=1, timestamp=datetime.datetime(2018, 1, 1, 15, 21), velo='False', changement=0),\n",
              " Row(id=1, timestamp=datetime.datetime(2018, 1, 1, 15, 22), velo='False', changement=0),\n",
              " Row(id=1, timestamp=datetime.datetime(2018, 1, 1, 15, 23), velo='False', changement=0),\n",
              " Row(id=1, timestamp=datetime.datetime(2018, 1, 1, 15, 24), velo='False', changement=0),\n",
              " Row(id=1, timestamp=datetime.datetime(2018, 1, 1, 15, 25), velo='False', changement=0),\n",
              " Row(id=1, timestamp=datetime.datetime(2018, 1, 1, 15, 26), velo='False', changement=0),\n",
              " Row(id=1, timestamp=datetime.datetime(2018, 1, 1, 15, 27), velo='False', changement=0),\n",
              " Row(id=1, timestamp=datetime.datetime(2018, 1, 1, 15, 28), velo='False', changement=0),\n",
              " Row(id=1, timestamp=datetime.datetime(2018, 1, 1, 15, 29), velo='False', changement=0),\n",
              " Row(id=1, timestamp=datetime.datetime(2018, 1, 1, 15, 30), velo='False', changement=0),\n",
              " Row(id=1, timestamp=datetime.datetime(2018, 1, 1, 15, 31), velo='False', changement=0),\n",
              " Row(id=1, timestamp=datetime.datetime(2018, 1, 1, 15, 32), velo='False', changement=0),\n",
              " Row(id=1, timestamp=datetime.datetime(2018, 1, 1, 15, 33), velo='False', changement=0),\n",
              " Row(id=1, timestamp=datetime.datetime(2018, 1, 1, 15, 34), velo='False', changement=0),\n",
              " Row(id=1, timestamp=datetime.datetime(2018, 1, 1, 15, 35), velo='False', changement=0),\n",
              " Row(id=1, timestamp=datetime.datetime(2018, 1, 1, 15, 36), velo='False', changement=0),\n",
              " Row(id=1, timestamp=datetime.datetime(2018, 1, 1, 15, 37), velo='False', changement=0),\n",
              " Row(id=1, timestamp=datetime.datetime(2018, 1, 1, 15, 38), velo='False', changement=0),\n",
              " Row(id=1, timestamp=datetime.datetime(2018, 1, 1, 15, 39), velo='False', changement=0),\n",
              " Row(id=1, timestamp=datetime.datetime(2018, 1, 1, 15, 40), velo='False', changement=0),\n",
              " Row(id=1, timestamp=datetime.datetime(2018, 1, 1, 15, 41), velo='False', changement=0),\n",
              " Row(id=1, timestamp=datetime.datetime(2018, 1, 1, 15, 42), velo='False', changement=0),\n",
              " Row(id=1, timestamp=datetime.datetime(2018, 1, 1, 15, 43), velo='False', changement=0),\n",
              " Row(id=1, timestamp=datetime.datetime(2018, 1, 1, 15, 44), velo='False', changement=0),\n",
              " Row(id=1, timestamp=datetime.datetime(2018, 1, 1, 15, 45), velo='False', changement=0),\n",
              " Row(id=1, timestamp=datetime.datetime(2018, 1, 1, 15, 46), velo='False', changement=0),\n",
              " Row(id=1, timestamp=datetime.datetime(2018, 1, 1, 15, 47), velo='False', changement=0),\n",
              " Row(id=1, timestamp=datetime.datetime(2018, 1, 1, 15, 48), velo='False', changement=0),\n",
              " Row(id=1, timestamp=datetime.datetime(2018, 1, 1, 15, 49), velo='False', changement=0),\n",
              " Row(id=1, timestamp=datetime.datetime(2018, 1, 1, 15, 50), velo='False', changement=0),\n",
              " Row(id=1, timestamp=datetime.datetime(2018, 1, 1, 15, 51), velo='False', changement=0),\n",
              " Row(id=1, timestamp=datetime.datetime(2018, 1, 1, 15, 52), velo='False', changement=0),\n",
              " Row(id=1, timestamp=datetime.datetime(2018, 1, 1, 15, 53), velo='False', changement=0),\n",
              " Row(id=1, timestamp=datetime.datetime(2018, 1, 1, 15, 54), velo='False', changement=0),\n",
              " Row(id=1, timestamp=datetime.datetime(2018, 1, 1, 15, 55), velo='False', changement=0),\n",
              " Row(id=1, timestamp=datetime.datetime(2018, 1, 1, 15, 56), velo='False', changement=0),\n",
              " Row(id=1, timestamp=datetime.datetime(2018, 1, 1, 15, 57), velo='False', changement=0),\n",
              " Row(id=1, timestamp=datetime.datetime(2018, 1, 1, 15, 58), velo='False', changement=0),\n",
              " Row(id=1, timestamp=datetime.datetime(2018, 1, 1, 15, 59), velo='False', changement=0),\n",
              " Row(id=1, timestamp=datetime.datetime(2018, 1, 1, 16, 0), velo='False', changement=0),\n",
              " Row(id=1, timestamp=datetime.datetime(2018, 1, 1, 16, 1), velo='False', changement=0),\n",
              " Row(id=1, timestamp=datetime.datetime(2018, 1, 1, 16, 2), velo='False', changement=0),\n",
              " Row(id=1, timestamp=datetime.datetime(2018, 1, 1, 16, 3), velo='False', changement=0),\n",
              " Row(id=1, timestamp=datetime.datetime(2018, 1, 1, 16, 4), velo='False', changement=0),\n",
              " Row(id=1, timestamp=datetime.datetime(2018, 1, 1, 16, 5), velo='False', changement=0),\n",
              " Row(id=1, timestamp=datetime.datetime(2018, 1, 1, 16, 6), velo='False', changement=0),\n",
              " Row(id=1, timestamp=datetime.datetime(2018, 1, 1, 16, 7), velo='False', changement=0),\n",
              " Row(id=1, timestamp=datetime.datetime(2018, 1, 1, 16, 8), velo='False', changement=0),\n",
              " Row(id=1, timestamp=datetime.datetime(2018, 1, 1, 16, 9), velo='False', changement=0),\n",
              " Row(id=1, timestamp=datetime.datetime(2018, 1, 1, 16, 10), velo='False', changement=0),\n",
              " Row(id=1, timestamp=datetime.datetime(2018, 1, 1, 16, 11), velo='False', changement=0),\n",
              " Row(id=1, timestamp=datetime.datetime(2018, 1, 1, 16, 12), velo='False', changement=0),\n",
              " Row(id=1, timestamp=datetime.datetime(2018, 1, 1, 16, 13), velo='False', changement=0),\n",
              " Row(id=1, timestamp=datetime.datetime(2018, 1, 1, 16, 14), velo='False', changement=0),\n",
              " Row(id=1, timestamp=datetime.datetime(2018, 1, 1, 16, 15), velo='False', changement=0),\n",
              " Row(id=1, timestamp=datetime.datetime(2018, 1, 1, 16, 16), velo='False', changement=0),\n",
              " Row(id=1, timestamp=datetime.datetime(2018, 1, 1, 16, 17), velo='False', changement=0),\n",
              " Row(id=1, timestamp=datetime.datetime(2018, 1, 1, 16, 18), velo='False', changement=0),\n",
              " Row(id=1, timestamp=datetime.datetime(2018, 1, 1, 16, 19), velo='False', changement=0),\n",
              " Row(id=1, timestamp=datetime.datetime(2018, 1, 1, 16, 20), velo='False', changement=0),\n",
              " Row(id=1, timestamp=datetime.datetime(2018, 1, 1, 16, 21), velo='False', changement=0),\n",
              " Row(id=1, timestamp=datetime.datetime(2018, 1, 1, 16, 22), velo='False', changement=0),\n",
              " Row(id=1, timestamp=datetime.datetime(2018, 1, 1, 16, 23), velo='False', changement=0),\n",
              " Row(id=1, timestamp=datetime.datetime(2018, 1, 1, 16, 24), velo='False', changement=0),\n",
              " Row(id=1, timestamp=datetime.datetime(2018, 1, 1, 16, 25), velo='False', changement=0),\n",
              " Row(id=1, timestamp=datetime.datetime(2018, 1, 1, 16, 26), velo='False', changement=0),\n",
              " Row(id=1, timestamp=datetime.datetime(2018, 1, 1, 16, 27), velo='False', changement=0),\n",
              " Row(id=1, timestamp=datetime.datetime(2018, 1, 1, 16, 28), velo='False', changement=0),\n",
              " Row(id=1, timestamp=datetime.datetime(2018, 1, 1, 16, 29), velo='False', changement=0),\n",
              " Row(id=1, timestamp=datetime.datetime(2018, 1, 1, 16, 30), velo='False', changement=0),\n",
              " Row(id=1, timestamp=datetime.datetime(2018, 1, 1, 16, 31), velo='False', changement=0),\n",
              " Row(id=1, timestamp=datetime.datetime(2018, 1, 1, 16, 32), velo='False', changement=0),\n",
              " Row(id=1, timestamp=datetime.datetime(2018, 1, 1, 16, 33), velo='False', changement=0),\n",
              " Row(id=1, timestamp=datetime.datetime(2018, 1, 1, 16, 34), velo='False', changement=0),\n",
              " Row(id=1, timestamp=datetime.datetime(2018, 1, 1, 16, 35), velo='False', changement=0),\n",
              " Row(id=1, timestamp=datetime.datetime(2018, 1, 1, 16, 36), velo='False', changement=0),\n",
              " Row(id=1, timestamp=datetime.datetime(2018, 1, 1, 16, 37), velo='False', changement=0),\n",
              " Row(id=1, timestamp=datetime.datetime(2018, 1, 1, 16, 38), velo='False', changement=0),\n",
              " Row(id=1, timestamp=datetime.datetime(2018, 1, 1, 16, 39), velo='False', changement=0),\n",
              " Row(id=1, timestamp=datetime.datetime(2018, 1, 1, 16, 40), velo='False', changement=0),\n",
              " ...]"
            ]
          },
          "metadata": {},
          "execution_count": 38
        }
      ]
    },
    {
      "cell_type": "markdown",
      "metadata": {
        "id": "0_9Ypmfx8TYA"
      },
      "source": [
        "We have built a Boolean column that detects the\n",
        "changes. Now we want to add this column from top to\n",
        "low \", by sub-group. This will have calculated the index of the trip."
      ]
    },
    {
      "cell_type": "markdown",
      "metadata": {
        "id": "MOJ20a5-8sGN"
      },
      "source": [
        "We are going to need a function that allows us to:\n",
        "1. Order the lines by cyclist and by date\n",
        "2. Divide by cyclist\n",
        "3. Add all the lines above\n",
        "the current line"
      ]
    },
    {
      "cell_type": "markdown",
      "metadata": {
        "id": "Yz84bXmW_XQb"
      },
      "source": [
        "For this we will use a specialized windowing function with an option `rangeBetween` that is placed with the option `window.unboundedPreceding`"
      ]
    },
    {
      "cell_type": "code",
      "metadata": {
        "id": "xW5-7hgA8TAZ"
      },
      "source": [
        "windowval = Window.orderBy(['id','timestamp'])\n",
        "windowval = windowval.partitionBy('id')\n",
        "windowval = windowval.rangeBetween(Window.unboundedPreceding,0)"
      ],
      "execution_count": 41,
      "outputs": []
    },
    {
      "cell_type": "code",
      "metadata": {
        "id": "0QzDGZKD9Y9v"
      },
      "source": [
        "tous_tous_cyclistes = tous_tous_cyclistes.withColumn('numero_de_traget',F.sum(\"changement\").over(windowval))"
      ],
      "execution_count": 42,
      "outputs": []
    },
    {
      "cell_type": "code",
      "metadata": {
        "colab": {
          "base_uri": "https://localhost:8080/"
        },
        "id": "fSgYGkaE9ylq",
        "outputId": "12df1902-46ab-431f-89e8-d9f5b725fbe2"
      },
      "source": [
        "tous_tous_cyclistes.printSchema()"
      ],
      "execution_count": 43,
      "outputs": [
        {
          "output_type": "stream",
          "name": "stdout",
          "text": [
            "root\n",
            " |-- id: integer (nullable = true)\n",
            " |-- timestamp: timestamp (nullable = true)\n",
            " |-- sur_velo: boolean (nullable = true)\n",
            " |-- velo: string (nullable = true)\n",
            " |-- vitesse: double (nullable = true)\n",
            " |-- position: string (nullable = true)\n",
            " |-- destination_finale: string (nullable = true)\n",
            " |-- changement: integer (nullable = true)\n",
            " |-- numero_de_traget: long (nullable = true)\n",
            "\n"
          ]
        }
      ]
    },
    {
      "cell_type": "code",
      "metadata": {
        "colab": {
          "base_uri": "https://localhost:8080/"
        },
        "id": "hkymdXti_vSL",
        "outputId": "1310fb6b-3dc7-43bc-d47c-4b003b7b60f2"
      },
      "source": [
        "tous_tous_cyclistes.select(\"id\",\"timestamp\",\"changement\",\"numero_de_traget\").take(5)"
      ],
      "execution_count": 44,
      "outputs": [
        {
          "output_type": "execute_result",
          "data": {
            "text/plain": [
              "[Row(id=148, timestamp=datetime.datetime(2018, 1, 1, 0, 1), changement=0, numero_de_traget=0),\n",
              " Row(id=148, timestamp=datetime.datetime(2018, 1, 1, 0, 2), changement=0, numero_de_traget=0),\n",
              " Row(id=148, timestamp=datetime.datetime(2018, 1, 1, 0, 3), changement=0, numero_de_traget=0),\n",
              " Row(id=148, timestamp=datetime.datetime(2018, 1, 1, 0, 4), changement=0, numero_de_traget=0),\n",
              " Row(id=148, timestamp=datetime.datetime(2018, 1, 1, 0, 5), changement=0, numero_de_traget=0)]"
            ]
          },
          "metadata": {},
          "execution_count": 44
        }
      ]
    },
    {
      "cell_type": "markdown",
      "metadata": {
        "id": "fGz9cwxyBCRx"
      },
      "source": [
        "##Calculate the time of the trip"
      ]
    },
    {
      "cell_type": "code",
      "metadata": {
        "id": "ks22IxLWBGGD"
      },
      "source": [
        "cyclistes = tous_tous_cyclistes\n",
        "debut_fin_traget = cyclistes.groupBy(['id','numero_de_traget']).agg(F.min(tous_tous_cyclistes.timestamp),F.max(tous_tous_cyclistes.timestamp))"
      ],
      "execution_count": 45,
      "outputs": []
    },
    {
      "cell_type": "code",
      "metadata": {
        "colab": {
          "base_uri": "https://localhost:8080/"
        },
        "id": "2tW9aRdhBkQG",
        "outputId": "cd1d92d7-e826-444c-e5c8-1b07f69f7426"
      },
      "source": [
        "debut_fin_traget.take(4)"
      ],
      "execution_count": 46,
      "outputs": [
        {
          "output_type": "execute_result",
          "data": {
            "text/plain": [
              "[Row(id=148, numero_de_traget=0, min(timestamp)=datetime.datetime(2018, 1, 1, 0, 1), max(timestamp)=datetime.datetime(2018, 1, 6, 10, 5)),\n",
              " Row(id=148, numero_de_traget=1, min(timestamp)=datetime.datetime(2018, 1, 6, 10, 6), max(timestamp)=datetime.datetime(2018, 1, 7, 8, 30)),\n",
              " Row(id=148, numero_de_traget=2, min(timestamp)=datetime.datetime(2018, 1, 7, 8, 31), max(timestamp)=datetime.datetime(2018, 1, 7, 16, 1)),\n",
              " Row(id=148, numero_de_traget=3, min(timestamp)=datetime.datetime(2018, 1, 7, 16, 2), max(timestamp)=datetime.datetime(2018, 1, 8, 7, 34))]"
            ]
          },
          "metadata": {},
          "execution_count": 46
        }
      ]
    },
    {
      "cell_type": "markdown",
      "metadata": {
        "id": "qq2ApMoVIGep"
      },
      "source": [
        "Now we should do the substraction of this minimum date in the maximum date, in order to calculate the duration.\n",
        "It turn out that for y archieve it will turn the timestamp objects into new objects unix_timestamp throught the function F.unix_timestamp."
      ]
    },
    {
      "cell_type": "code",
      "metadata": {
        "colab": {
          "base_uri": "https://localhost:8080/"
        },
        "id": "CF12e222I_h6",
        "outputId": "3efa0e03-5e7e-460b-9489-a4f3b067a1fc"
      },
      "source": [
        "cyclistes.agg(F.unix_timestamp(F.max(tous_tous_cyclistes.timestamp))-F.unix_timestamp(F.min(tous_tous_cyclistes.timestamp)))"
      ],
      "execution_count": 47,
      "outputs": [
        {
          "output_type": "execute_result",
          "data": {
            "text/plain": [
              "DataFrame[(unix_timestamp(max(timestamp), yyyy-MM-dd HH:mm:ss) - unix_timestamp(min(timestamp), yyyy-MM-dd HH:mm:ss)): bigint]"
            ]
          },
          "metadata": {},
          "execution_count": 47
        }
      ]
    },
    {
      "cell_type": "code",
      "metadata": {
        "id": "K0jlmULSKiFe"
      },
      "source": [
        "cyclistes = cyclistes.groupBy([\"id\",\"numero_de_traget\"])"
      ],
      "execution_count": 48,
      "outputs": []
    },
    {
      "cell_type": "code",
      "metadata": {
        "id": "Joq1ZGoWKtZf"
      },
      "source": [
        "cyclistes = cyclistes.agg(F.unix_timestamp(F.max(tous_tous_cyclistes.timestamp))-F.unix_timestamp(F.min(tous_tous_cyclistes.timestamp)))"
      ],
      "execution_count": 49,
      "outputs": []
    },
    {
      "cell_type": "code",
      "metadata": {
        "id": "8DlfOaViK8AH"
      },
      "source": [
        "cyclistes = cyclistes.sort('id')"
      ],
      "execution_count": 50,
      "outputs": []
    },
    {
      "cell_type": "code",
      "metadata": {
        "colab": {
          "base_uri": "https://localhost:8080/"
        },
        "id": "DqpF8GB4LD78",
        "outputId": "c98fc281-6448-403f-8f8d-c96f4e90775e"
      },
      "source": [
        "cyclistes.printSchema()"
      ],
      "execution_count": 51,
      "outputs": [
        {
          "output_type": "stream",
          "name": "stdout",
          "text": [
            "root\n",
            " |-- id: integer (nullable = true)\n",
            " |-- numero_de_traget: long (nullable = true)\n",
            " |-- (unix_timestamp(max(timestamp), yyyy-MM-dd HH:mm:ss) - unix_timestamp(min(timestamp), yyyy-MM-dd HH:mm:ss)): long (nullable = true)\n",
            "\n"
          ]
        }
      ]
    },
    {
      "cell_type": "code",
      "metadata": {
        "id": "QJyfqq5GLYli"
      },
      "source": [
        "cyclistes = cyclistes.withColumnRenamed(\"(unix_timestamp(max(timestamp), yyyy-MM-dd HH:mm:ss) - unix_timestamp(min(timestamp), yyyy-MM-dd HH:mm:ss))\",\"duree\")"
      ],
      "execution_count": 52,
      "outputs": []
    },
    {
      "cell_type": "code",
      "metadata": {
        "colab": {
          "base_uri": "https://localhost:8080/"
        },
        "id": "T3EPqRUMNGme",
        "outputId": "7df0a56e-9c9d-46b5-b101-2c582c60fdda"
      },
      "source": [
        "cyclistes.take(4)"
      ],
      "execution_count": 53,
      "outputs": [
        {
          "output_type": "execute_result",
          "data": {
            "text/plain": [
              "[Row(id=1, numero_de_traget=2, duree=85080),\n",
              " Row(id=1, numero_de_traget=0, duree=438540),\n",
              " Row(id=1, numero_de_traget=1, duree=1200),\n",
              " Row(id=1, numero_de_traget=3, duree=960)]"
            ]
          },
          "metadata": {},
          "execution_count": 53
        }
      ]
    },
    {
      "cell_type": "markdown",
      "metadata": {
        "id": "PVC6nxksOOn8"
      },
      "source": [
        "**`we have therefore manage to calculate the duration of each trip for each cylists`**"
      ]
    },
    {
      "cell_type": "markdown",
      "metadata": {
        "id": "WWQW4iE9PU1q"
      },
      "source": [
        "##Switch from spark to Pandas to do graphics"
      ]
    },
    {
      "cell_type": "code",
      "metadata": {
        "id": "rdLT2V28OfCj"
      },
      "source": [
        "df = cyclistes.toPandas()"
      ],
      "execution_count": 54,
      "outputs": []
    },
    {
      "cell_type": "code",
      "metadata": {
        "colab": {
          "base_uri": "https://localhost:8080/",
          "height": 206
        },
        "id": "Ia8scLIdQClf",
        "outputId": "00005f8f-7489-4839-adcc-9622acba4808"
      },
      "source": [
        "df.head()"
      ],
      "execution_count": 56,
      "outputs": [
        {
          "output_type": "execute_result",
          "data": {
            "text/html": [
              "<div>\n",
              "<style scoped>\n",
              "    .dataframe tbody tr th:only-of-type {\n",
              "        vertical-align: middle;\n",
              "    }\n",
              "\n",
              "    .dataframe tbody tr th {\n",
              "        vertical-align: top;\n",
              "    }\n",
              "\n",
              "    .dataframe thead th {\n",
              "        text-align: right;\n",
              "    }\n",
              "</style>\n",
              "<table border=\"1\" class=\"dataframe\">\n",
              "  <thead>\n",
              "    <tr style=\"text-align: right;\">\n",
              "      <th></th>\n",
              "      <th>id</th>\n",
              "      <th>numero_de_traget</th>\n",
              "      <th>duree</th>\n",
              "    </tr>\n",
              "  </thead>\n",
              "  <tbody>\n",
              "    <tr>\n",
              "      <th>0</th>\n",
              "      <td>1</td>\n",
              "      <td>0</td>\n",
              "      <td>438540</td>\n",
              "    </tr>\n",
              "    <tr>\n",
              "      <th>1</th>\n",
              "      <td>1</td>\n",
              "      <td>1</td>\n",
              "      <td>1200</td>\n",
              "    </tr>\n",
              "    <tr>\n",
              "      <th>2</th>\n",
              "      <td>1</td>\n",
              "      <td>2</td>\n",
              "      <td>85080</td>\n",
              "    </tr>\n",
              "    <tr>\n",
              "      <th>3</th>\n",
              "      <td>1</td>\n",
              "      <td>3</td>\n",
              "      <td>960</td>\n",
              "    </tr>\n",
              "    <tr>\n",
              "      <th>4</th>\n",
              "      <td>1</td>\n",
              "      <td>4</td>\n",
              "      <td>517680</td>\n",
              "    </tr>\n",
              "  </tbody>\n",
              "</table>\n",
              "</div>"
            ],
            "text/plain": [
              "   id  numero_de_traget   duree\n",
              "0   1                 0  438540\n",
              "1   1                 1    1200\n",
              "2   1                 2   85080\n",
              "3   1                 3     960\n",
              "4   1                 4  517680"
            ]
          },
          "metadata": {},
          "execution_count": 56
        }
      ]
    },
    {
      "cell_type": "code",
      "metadata": {
        "id": "E_GjNncVP4Lm"
      },
      "source": [
        "%matplotlib inline\n",
        "import seaborn as sns"
      ],
      "execution_count": 55,
      "outputs": []
    },
    {
      "cell_type": "code",
      "metadata": {
        "colab": {
          "base_uri": "https://localhost:8080/",
          "height": 299
        },
        "id": "f-CUBs_NP_Nl",
        "outputId": "0915b79e-daf9-446b-c9b6-6e5d7ed75745"
      },
      "source": [
        "df.sort_values([\"id\",\"numero_de_traget\"]).plot(kind=\"bar\",x=\"numero_de_traget\",y=\"duree\",title=\"Durée des traget\")\n",
        "sns.despine()"
      ],
      "execution_count": 58,
      "outputs": [
        {
          "output_type": "display_data",
          "data": {
            "image/png": "[encoded data removed]",
            "text/plain": [
              "<Figure size 432x288 with 1 Axes>"
            ]
          },
          "metadata": {
            "needs_background": "light"
          }
        }
      ]
    },
    {
      "cell_type": "code",
      "metadata": {
        "colab": {
          "base_uri": "https://localhost:8080/",
          "height": 299
        },
        "id": "Za9AojTzQ4bR",
        "outputId": "4a2f748d-61fe-4bcb-d323-1eae82298847"
      },
      "source": [
        "num_cycliste = [40]\n",
        "filter = df.id.isin(num_cycliste)\n",
        "df[filter].plot(kind=\"bar\",x=\"numero_de_traget\",y=\"duree\",title=\"Durée des traget\")\n",
        "sns.despine()"
      ],
      "execution_count": 60,
      "outputs": [
        {
          "output_type": "display_data",
          "data": {
            "image/png": "[encoded data removed]",
            "text/plain": [
              "<Figure size 432x288 with 1 Axes>"
            ]
          },
          "metadata": {
            "needs_background": "light"
          }
        }
      ]
    }
  ]
}